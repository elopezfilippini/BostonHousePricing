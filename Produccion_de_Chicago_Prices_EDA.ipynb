{
  "cells": [
    {
      "cell_type": "code",
      "execution_count": 5,
      "metadata": {
        "id": "1VkzVe0WOT4O"
      },
      "outputs": [],
      "source": [
        "import numpy as np\n",
        "import seaborn as sns\n",
        "import pandas as pd\n",
        "import matplotlib.pyplot as plt\n"
      ]
    },
    {
      "cell_type": "markdown",
      "metadata": {},
      "source": []
    },
    {
      "cell_type": "markdown",
      "metadata": {},
      "source": []
    },
    {
      "cell_type": "code",
      "execution_count": null,
      "metadata": {
        "id": "wLeZLv5H9Of0"
      },
      "outputs": [],
      "source": []
    },
    {
      "cell_type": "code",
      "execution_count": 7,
      "metadata": {
        "colab": {
          "base_uri": "https://localhost:8080/"
        },
        "id": "6Fn0riu_21XB",
        "outputId": "b161a9c0-5c25-4301-9b8c-f56558eca2c3"
      },
      "outputs": [
        {
          "ename": "ModuleNotFoundError",
          "evalue": "No module named 'google'",
          "output_type": "error",
          "traceback": [
            "\u001b[1;31m---------------------------------------------------------------------------\u001b[0m",
            "\u001b[1;31mModuleNotFoundError\u001b[0m                       Traceback (most recent call last)",
            "\u001b[1;32m~\\AppData\\Local\\Temp\\ipykernel_12040\\451384764.py\u001b[0m in \u001b[0;36m<module>\u001b[1;34m\u001b[0m\n\u001b[1;32m----> 1\u001b[1;33m \u001b[1;32mfrom\u001b[0m \u001b[0mgoogle\u001b[0m\u001b[1;33m.\u001b[0m\u001b[0mcolab\u001b[0m \u001b[1;32mimport\u001b[0m \u001b[0mdrive\u001b[0m\u001b[1;33m\u001b[0m\u001b[1;33m\u001b[0m\u001b[0m\n\u001b[0m\u001b[0;32m      2\u001b[0m \u001b[0mdrive\u001b[0m\u001b[1;33m.\u001b[0m\u001b[0mmount\u001b[0m\u001b[1;33m(\u001b[0m\u001b[1;34m\"/content/drive\"\u001b[0m\u001b[1;33m)\u001b[0m\u001b[1;33m\u001b[0m\u001b[1;33m\u001b[0m\u001b[0m\n",
            "\u001b[1;31mModuleNotFoundError\u001b[0m: No module named 'google'"
          ]
        }
      ],
      "source": [
        "from google.colab import drive\n",
        "drive.mount(\"/content/drive\")"
      ]
    },
    {
      "cell_type": "code",
      "execution_count": null,
      "metadata": {
        "colab": {
          "base_uri": "https://localhost:8080/",
          "height": 443
        },
        "id": "fdAQ9SD-OeHL",
        "outputId": "f375216b-7d89-49de-92e9-8108919f1cb5"
      },
      "outputs": [
        {
          "ename": "",
          "evalue": "",
          "output_type": "error",
          "traceback": [
            "\u001b[1;31mRunning cells with 'venv (Python 3.7.16)' requires the ipykernel package.\n",
            "\u001b[1;31mRun the following command to install 'ipykernel' into the Python environment. \n",
            "\u001b[1;31mCommand: 'conda install -p c:\\Users\\emi87\\OneDrive\\Escritorio\\Data Projects\\Ml Projects\\BostonHousePricing\\venv ipykernel --update-deps --force-reinstall'"
          ]
        }
      ],
      "source": [
        "df = pd.read_csv(\"C:/Users/emi87/OneDrive/Escritorio/Data Projects/Ml Projects/BostonHousePricing/train.csv\")\n",
        "dftest = pd.read_csv(\"C:/Users/emi87/OneDrive/Escritorio/Data Projects/Ml Projects/BostonHousePricing/test.csv\")\n",
        "\n",
        "df[['LotFrontage', 'LotArea', 'Neighborhood', 'OverallQual', 'YearBuilt',\n",
        "       'YearRemodAdd', 'MasVnrArea', 'BsmtFinSF1', 'TotalBsmtSF', '1stFlrSF',\n",
        "       '2ndFlrSF', 'GrLivArea', 'FullBath', 'KitchenQual', 'FireplaceQu',\n",
        "       'GarageArea', 'OpenPorchSF', 'MoSold', 'YrSold',\"SalePrice\"]]"
      ]
    },
    {
      "cell_type": "code",
      "execution_count": null,
      "metadata": {
        "id": "zlceLel4gW4P"
      },
      "outputs": [
        {
          "ename": "",
          "evalue": "",
          "output_type": "error",
          "traceback": [
            "\u001b[1;31mRunning cells with 'venv (Python 3.7.16)' requires the ipykernel package.\n",
            "\u001b[1;31mRun the following command to install 'ipykernel' into the Python environment. \n",
            "\u001b[1;31mCommand: 'conda install -p c:\\Users\\emi87\\OneDrive\\Escritorio\\Data Projects\\Ml Projects\\BostonHousePricing\\venv ipykernel --update-deps --force-reinstall'"
          ]
        }
      ],
      "source": [
        "grafo=df.groupby(\"KitchenQual\")[\"SalePrice\"].sum()"
      ]
    },
    {
      "cell_type": "code",
      "execution_count": null,
      "metadata": {
        "colab": {
          "base_uri": "https://localhost:8080/"
        },
        "id": "NwBns2wPgja2",
        "outputId": "85bec415-fef1-4780-c34d-ea137bd0a6c2"
      },
      "outputs": [
        {
          "ename": "",
          "evalue": "",
          "output_type": "error",
          "traceback": [
            "\u001b[1;31mRunning cells with 'venv (Python 3.7.16)' requires the ipykernel package.\n",
            "\u001b[1;31mRun the following command to install 'ipykernel' into the Python environment. \n",
            "\u001b[1;31mCommand: 'conda install -p c:\\Users\\emi87\\OneDrive\\Escritorio\\Data Projects\\Ml Projects\\BostonHousePricing\\venv ipykernel --update-deps --force-reinstall'"
          ]
        }
      ],
      "source": [
        "grafo"
      ]
    },
    {
      "cell_type": "code",
      "execution_count": null,
      "metadata": {
        "id": "zbmAoO2Bgz3V"
      },
      "outputs": [
        {
          "ename": "",
          "evalue": "",
          "output_type": "error",
          "traceback": [
            "\u001b[1;31mRunning cells with 'venv (Python 3.7.16)' requires the ipykernel package.\n",
            "\u001b[1;31mRun the following command to install 'ipykernel' into the Python environment. \n",
            "\u001b[1;31mCommand: 'conda install -p c:\\Users\\emi87\\OneDrive\\Escritorio\\Data Projects\\Ml Projects\\BostonHousePricing\\venv ipykernel --update-deps --force-reinstall'"
          ]
        }
      ],
      "source": [
        "grafo2=dftest.groupby(\"KitchenQual\")[\"PoolArea\"].sum()"
      ]
    },
    {
      "cell_type": "code",
      "execution_count": null,
      "metadata": {
        "colab": {
          "base_uri": "https://localhost:8080/",
          "height": 109
        },
        "id": "llHUzE1Oh3nw",
        "outputId": "8ed057da-610e-450e-e3bc-173b16ab6d86"
      },
      "outputs": [
        {
          "ename": "",
          "evalue": "",
          "output_type": "error",
          "traceback": [
            "\u001b[1;31mRunning cells with 'venv (Python 3.7.16)' requires the ipykernel package.\n",
            "\u001b[1;31mRun the following command to install 'ipykernel' into the Python environment. \n",
            "\u001b[1;31mCommand: 'conda install -p c:\\Users\\emi87\\OneDrive\\Escritorio\\Data Projects\\Ml Projects\\BostonHousePricing\\venv ipykernel --update-deps --force-reinstall'"
          ]
        }
      ],
      "source": [
        "filas_nulas = df[df['KitchenQual'].isnull()]\n",
        "filas_nulas"
      ]
    },
    {
      "cell_type": "code",
      "execution_count": null,
      "metadata": {
        "id": "2tatOsvng68u"
      },
      "outputs": [
        {
          "ename": "",
          "evalue": "",
          "output_type": "error",
          "traceback": [
            "\u001b[1;31mRunning cells with 'venv (Python 3.7.16)' requires the ipykernel package.\n",
            "\u001b[1;31mRun the following command to install 'ipykernel' into the Python environment. \n",
            "\u001b[1;31mCommand: 'conda install -p c:\\Users\\emi87\\OneDrive\\Escritorio\\Data Projects\\Ml Projects\\BostonHousePricing\\venv ipykernel --update-deps --force-reinstall'"
          ]
        }
      ],
      "source": [
        "dfloco = dftest[\"KitchenQual\"].isnull()\n"
      ]
    },
    {
      "cell_type": "code",
      "execution_count": null,
      "metadata": {
        "colab": {
          "base_uri": "https://localhost:8080/",
          "height": 255
        },
        "id": "hD8H519blBsY",
        "outputId": "d0ee345d-295b-4c5c-828f-d122f46fc3fa"
      },
      "outputs": [
        {
          "ename": "",
          "evalue": "",
          "output_type": "error",
          "traceback": [
            "\u001b[1;31mRunning cells with 'venv (Python 3.7.16)' requires the ipykernel package.\n",
            "\u001b[1;31mRun the following command to install 'ipykernel' into the Python environment. \n",
            "\u001b[1;31mCommand: 'conda install -p c:\\Users\\emi87\\OneDrive\\Escritorio\\Data Projects\\Ml Projects\\BostonHousePricing\\venv ipykernel --update-deps --force-reinstall'"
          ]
        }
      ],
      "source": [
        "dftest.head()"
      ]
    },
    {
      "cell_type": "code",
      "execution_count": null,
      "metadata": {
        "colab": {
          "base_uri": "https://localhost:8080/",
          "height": 255
        },
        "id": "eif9WYrCq9E8",
        "outputId": "c24e6395-de5c-40d6-b6e4-b40def0f2100"
      },
      "outputs": [
        {
          "ename": "",
          "evalue": "",
          "output_type": "error",
          "traceback": [
            "\u001b[1;31mRunning cells with 'venv (Python 3.7.16)' requires the ipykernel package.\n",
            "\u001b[1;31mRun the following command to install 'ipykernel' into the Python environment. \n",
            "\u001b[1;31mCommand: 'conda install -p c:\\Users\\emi87\\OneDrive\\Escritorio\\Data Projects\\Ml Projects\\BostonHousePricing\\venv ipykernel --update-deps --force-reinstall'"
          ]
        }
      ],
      "source": [
        "dftest.head()"
      ]
    },
    {
      "cell_type": "markdown",
      "metadata": {
        "id": "mJqfFc_jsLb5"
      },
      "source": [
        "# Análisis Descriptivo :\n",
        "\n",
        "\n",
        "\n"
      ]
    },
    {
      "cell_type": "markdown",
      "metadata": {
        "id": "CXln5osM644K"
      },
      "source": [
        "# - Información del Set de Datos\n",
        "\n",
        "\n",
        "\n",
        "\n",
        "\n",
        "\n",
        "\n"
      ]
    },
    {
      "cell_type": "code",
      "execution_count": null,
      "metadata": {
        "colab": {
          "base_uri": "https://localhost:8080/"
        },
        "id": "Y_cCzH-X6to4",
        "outputId": "b1baf4c6-ba2f-44f0-cf1e-2215a0a91e95"
      },
      "outputs": [
        {
          "ename": "",
          "evalue": "",
          "output_type": "error",
          "traceback": [
            "\u001b[1;31mRunning cells with 'venv (Python 3.7.16)' requires the ipykernel package.\n",
            "\u001b[1;31mRun the following command to install 'ipykernel' into the Python environment. \n",
            "\u001b[1;31mCommand: 'conda install -p c:\\Users\\emi87\\OneDrive\\Escritorio\\Data Projects\\Ml Projects\\BostonHousePricing\\venv ipykernel --update-deps --force-reinstall'"
          ]
        }
      ],
      "source": [
        "df.info()"
      ]
    },
    {
      "cell_type": "code",
      "execution_count": null,
      "metadata": {
        "id": "1wRStrls60Qv"
      },
      "outputs": [
        {
          "ename": "",
          "evalue": "",
          "output_type": "error",
          "traceback": [
            "\u001b[1;31mRunning cells with 'venv (Python 3.7.16)' requires the ipykernel package.\n",
            "\u001b[1;31mRun the following command to install 'ipykernel' into the Python environment. \n",
            "\u001b[1;31mCommand: 'conda install -p c:\\Users\\emi87\\OneDrive\\Escritorio\\Data Projects\\Ml Projects\\BostonHousePricing\\venv ipykernel --update-deps --force-reinstall'"
          ]
        }
      ],
      "source": [
        "# Existen 1460 registros y 80 variables."
      ]
    },
    {
      "cell_type": "code",
      "execution_count": null,
      "metadata": {
        "id": "-6KV6QhskEeL"
      },
      "outputs": [
        {
          "ename": "",
          "evalue": "",
          "output_type": "error",
          "traceback": [
            "\u001b[1;31mRunning cells with 'venv (Python 3.7.16)' requires the ipykernel package.\n",
            "\u001b[1;31mRun the following command to install 'ipykernel' into the Python environment. \n",
            "\u001b[1;31mCommand: 'conda install -p c:\\Users\\emi87\\OneDrive\\Escritorio\\Data Projects\\Ml Projects\\BostonHousePricing\\venv ipykernel --update-deps --force-reinstall'"
          ]
        }
      ],
      "source": [
        "# correlation_matrix = df.corr()\n",
        "\n",
        "# # Crear un mapa de calor con Seaborn\n",
        "# plt.figure(figsize=(50, 20))\n",
        "# sns.heatmap(correlation_matrix, annot=True, cmap='coolwarm', fmt=\".2f\")\n",
        "# plt.title('Mapa de Correlación')\n",
        "# plt.show()"
      ]
    },
    {
      "cell_type": "markdown",
      "metadata": {
        "id": "J9_XclV4jOlX"
      },
      "source": [
        "#- Verificación de Valores Nulos y eliminación:\n",
        "\n"
      ]
    },
    {
      "cell_type": "code",
      "execution_count": null,
      "metadata": {
        "id": "QKXL15mhvBx-"
      },
      "outputs": [
        {
          "ename": "",
          "evalue": "",
          "output_type": "error",
          "traceback": [
            "\u001b[1;31mRunning cells with 'venv (Python 3.7.16)' requires the ipykernel package.\n",
            "\u001b[1;31mRun the following command to install 'ipykernel' into the Python environment. \n",
            "\u001b[1;31mCommand: 'conda install -p c:\\Users\\emi87\\OneDrive\\Escritorio\\Data Projects\\Ml Projects\\BostonHousePricing\\venv ipykernel --update-deps --force-reinstall'"
          ]
        }
      ],
      "source": []
    },
    {
      "cell_type": "code",
      "execution_count": null,
      "metadata": {
        "colab": {
          "base_uri": "https://localhost:8080/"
        },
        "id": "tsvKLRZIggn1",
        "outputId": "0cdf128a-f5df-48c8-8444-7f0642942c5e"
      },
      "outputs": [
        {
          "ename": "",
          "evalue": "",
          "output_type": "error",
          "traceback": [
            "\u001b[1;31mRunning cells with 'venv (Python 3.7.16)' requires the ipykernel package.\n",
            "\u001b[1;31mRun the following command to install 'ipykernel' into the Python environment. \n",
            "\u001b[1;31mCommand: 'conda install -p c:\\Users\\emi87\\OneDrive\\Escritorio\\Data Projects\\Ml Projects\\BostonHousePricing\\venv ipykernel --update-deps --force-reinstall'"
          ]
        }
      ],
      "source": [
        "for columnas in df.columns:\n",
        "  if df[columnas].isnull().sum() > 1:\n",
        "    print(f'{columnas} tiene {df[columnas].isnull().sum()} valores nulos')"
      ]
    },
    {
      "cell_type": "code",
      "execution_count": null,
      "metadata": {
        "id": "0i3qROPRvYkX"
      },
      "outputs": [
        {
          "ename": "",
          "evalue": "",
          "output_type": "error",
          "traceback": [
            "\u001b[1;31mRunning cells with 'venv (Python 3.7.16)' requires the ipykernel package.\n",
            "\u001b[1;31mRun the following command to install 'ipykernel' into the Python environment. \n",
            "\u001b[1;31mCommand: 'conda install -p c:\\Users\\emi87\\OneDrive\\Escritorio\\Data Projects\\Ml Projects\\BostonHousePricing\\venv ipykernel --update-deps --force-reinstall'"
          ]
        }
      ],
      "source": [
        "# nulltofill = [columnas for columnas in df.columns if df[columnas].isnull().sum()>1 and  df[columnas].isnull().sum()<500]"
      ]
    },
    {
      "cell_type": "code",
      "execution_count": null,
      "metadata": {
        "id": "IRiLe1W_wSh2"
      },
      "outputs": [
        {
          "ename": "",
          "evalue": "",
          "output_type": "error",
          "traceback": [
            "\u001b[1;31mRunning cells with 'venv (Python 3.7.16)' requires the ipykernel package.\n",
            "\u001b[1;31mRun the following command to install 'ipykernel' into the Python environment. \n",
            "\u001b[1;31mCommand: 'conda install -p c:\\Users\\emi87\\OneDrive\\Escritorio\\Data Projects\\Ml Projects\\BostonHousePricing\\venv ipykernel --update-deps --force-reinstall'"
          ]
        }
      ],
      "source": [
        "# nulltodelete = [columnas for columnas in df.columns if df[columnas].isnull().sum()>500]"
      ]
    },
    {
      "cell_type": "code",
      "execution_count": null,
      "metadata": {
        "id": "Eko58mJWwdqO"
      },
      "outputs": [
        {
          "ename": "",
          "evalue": "",
          "output_type": "error",
          "traceback": [
            "\u001b[1;31mRunning cells with 'venv (Python 3.7.16)' requires the ipykernel package.\n",
            "\u001b[1;31mRun the following command to install 'ipykernel' into the Python environment. \n",
            "\u001b[1;31mCommand: 'conda install -p c:\\Users\\emi87\\OneDrive\\Escritorio\\Data Projects\\Ml Projects\\BostonHousePricing\\venv ipykernel --update-deps --force-reinstall'"
          ]
        }
      ],
      "source": [
        "# Nulltofill son las variables con una cantidad moderada de valores nulos que serán tratados posteriormente.\n",
        "# en el caso de Nulltodelete serán eliminados por la cantidad grande."
      ]
    },
    {
      "cell_type": "code",
      "execution_count": null,
      "metadata": {
        "colab": {
          "base_uri": "https://localhost:8080/",
          "height": 1000
        },
        "id": "5rtw9_kF84SE",
        "outputId": "5a61e887-17e6-4762-9c26-aae4eb4d4db1"
      },
      "outputs": [
        {
          "ename": "",
          "evalue": "",
          "output_type": "error",
          "traceback": [
            "\u001b[1;31mRunning cells with 'venv (Python 3.7.16)' requires the ipykernel package.\n",
            "\u001b[1;31mRun the following command to install 'ipykernel' into the Python environment. \n",
            "\u001b[1;31mCommand: 'conda install -p c:\\Users\\emi87\\OneDrive\\Escritorio\\Data Projects\\Ml Projects\\BostonHousePricing\\venv ipykernel --update-deps --force-reinstall'"
          ]
        }
      ],
      "source": [
        "round(df.describe()).T"
      ]
    },
    {
      "cell_type": "code",
      "execution_count": null,
      "metadata": {
        "colab": {
          "base_uri": "https://localhost:8080/"
        },
        "id": "uLE_XBxkjpo_",
        "outputId": "dec23a78-8601-4a2f-8483-b1e259ca26bc"
      },
      "outputs": [
        {
          "ename": "",
          "evalue": "",
          "output_type": "error",
          "traceback": [
            "\u001b[1;31mRunning cells with 'venv (Python 3.7.16)' requires the ipykernel package.\n",
            "\u001b[1;31mRun the following command to install 'ipykernel' into the Python environment. \n",
            "\u001b[1;31mCommand: 'conda install -p c:\\Users\\emi87\\OneDrive\\Escritorio\\Data Projects\\Ml Projects\\BostonHousePricing\\venv ipykernel --update-deps --force-reinstall'"
          ]
        }
      ],
      "source": [
        "(df[\"ScreenPorch\"]==0).sum()"
      ]
    },
    {
      "cell_type": "code",
      "execution_count": null,
      "metadata": {
        "id": "t7XVvzik-ahF"
      },
      "outputs": [
        {
          "ename": "",
          "evalue": "",
          "output_type": "error",
          "traceback": [
            "\u001b[1;31mRunning cells with 'venv (Python 3.7.16)' requires the ipykernel package.\n",
            "\u001b[1;31mRun the following command to install 'ipykernel' into the Python environment. \n",
            "\u001b[1;31mCommand: 'conda install -p c:\\Users\\emi87\\OneDrive\\Escritorio\\Data Projects\\Ml Projects\\BostonHousePricing\\venv ipykernel --update-deps --force-reinstall'"
          ]
        }
      ],
      "source": [
        "variable = round(df.describe(include=['O'])).T"
      ]
    },
    {
      "cell_type": "code",
      "execution_count": null,
      "metadata": {
        "id": "c9-zWXQVpjk5"
      },
      "outputs": [
        {
          "ename": "",
          "evalue": "",
          "output_type": "error",
          "traceback": [
            "\u001b[1;31mRunning cells with 'venv (Python 3.7.16)' requires the ipykernel package.\n",
            "\u001b[1;31mRun the following command to install 'ipykernel' into the Python environment. \n",
            "\u001b[1;31mCommand: 'conda install -p c:\\Users\\emi87\\OneDrive\\Escritorio\\Data Projects\\Ml Projects\\BostonHousePricing\\venv ipykernel --update-deps --force-reinstall'"
          ]
        }
      ],
      "source": [
        "# variable[\"Porc\"] = variable[\"freq\"]/len(df)"
      ]
    },
    {
      "cell_type": "code",
      "execution_count": null,
      "metadata": {
        "id": "uhQTHKF5_bVW"
      },
      "outputs": [
        {
          "ename": "",
          "evalue": "",
          "output_type": "error",
          "traceback": [
            "\u001b[1;31mRunning cells with 'venv (Python 3.7.16)' requires the ipykernel package.\n",
            "\u001b[1;31mRun the following command to install 'ipykernel' into the Python environment. \n",
            "\u001b[1;31mCommand: 'conda install -p c:\\Users\\emi87\\OneDrive\\Escritorio\\Data Projects\\Ml Projects\\BostonHousePricing\\venv ipykernel --update-deps --force-reinstall'"
          ]
        }
      ],
      "source": [
        "# variable[\"Porc\"] = variable[\"Porc\"].apply(lambda x: round(x,2))"
      ]
    },
    {
      "cell_type": "code",
      "execution_count": null,
      "metadata": {
        "id": "Apku-4sWBh1G"
      },
      "outputs": [
        {
          "ename": "",
          "evalue": "",
          "output_type": "error",
          "traceback": [
            "\u001b[1;31mRunning cells with 'venv (Python 3.7.16)' requires the ipykernel package.\n",
            "\u001b[1;31mRun the following command to install 'ipykernel' into the Python environment. \n",
            "\u001b[1;31mCommand: 'conda install -p c:\\Users\\emi87\\OneDrive\\Escritorio\\Data Projects\\Ml Projects\\BostonHousePricing\\venv ipykernel --update-deps --force-reinstall'"
          ]
        }
      ],
      "source": [
        "# categoricalToDelete = [valores for valores in variable.index if variable.loc[valores, \"count\"] < 700] # Al haber variables categoricas con pocos datos creo una categoria para eliminarlas.\n"
      ]
    },
    {
      "cell_type": "markdown",
      "metadata": {
        "id": "qh33OQ8bs16v"
      },
      "source": []
    },
    {
      "cell_type": "markdown",
      "metadata": {
        "id": "tTIZQB0JsRDM"
      },
      "source": [
        "# División de Variables Categoricas, Numéricas (discretas y continuas)\n"
      ]
    },
    {
      "cell_type": "code",
      "execution_count": null,
      "metadata": {
        "id": "xuQb1G1rW9Ao"
      },
      "outputs": [
        {
          "ename": "",
          "evalue": "",
          "output_type": "error",
          "traceback": [
            "\u001b[1;31mRunning cells with 'venv (Python 3.7.16)' requires the ipykernel package.\n",
            "\u001b[1;31mRun the following command to install 'ipykernel' into the Python environment. \n",
            "\u001b[1;31mCommand: 'conda install -p c:\\Users\\emi87\\OneDrive\\Escritorio\\Data Projects\\Ml Projects\\BostonHousePricing\\venv ipykernel --update-deps --force-reinstall'"
          ]
        }
      ],
      "source": [
        "variables_categoricas = [columnas for columnas in df.columns if df[columnas].dtype ==\"O\"]"
      ]
    },
    {
      "cell_type": "code",
      "execution_count": null,
      "metadata": {
        "id": "BwEsz4QeeBRH"
      },
      "outputs": [
        {
          "ename": "",
          "evalue": "",
          "output_type": "error",
          "traceback": [
            "\u001b[1;31mRunning cells with 'venv (Python 3.7.16)' requires the ipykernel package.\n",
            "\u001b[1;31mRun the following command to install 'ipykernel' into the Python environment. \n",
            "\u001b[1;31mCommand: 'conda install -p c:\\Users\\emi87\\OneDrive\\Escritorio\\Data Projects\\Ml Projects\\BostonHousePricing\\venv ipykernel --update-deps --force-reinstall'"
          ]
        }
      ],
      "source": [
        "variables_numericas = [columnas for columnas in df.columns if df[columnas].dtype !=\"O\" and len(df[columnas].unique())>20 ]"
      ]
    },
    {
      "cell_type": "code",
      "execution_count": null,
      "metadata": {
        "id": "2QCP9f54eEt5"
      },
      "outputs": [
        {
          "ename": "",
          "evalue": "",
          "output_type": "error",
          "traceback": [
            "\u001b[1;31mRunning cells with 'venv (Python 3.7.16)' requires the ipykernel package.\n",
            "\u001b[1;31mRun the following command to install 'ipykernel' into the Python environment. \n",
            "\u001b[1;31mCommand: 'conda install -p c:\\Users\\emi87\\OneDrive\\Escritorio\\Data Projects\\Ml Projects\\BostonHousePricing\\venv ipykernel --update-deps --force-reinstall'"
          ]
        }
      ],
      "source": [
        "variables_discretas = [columnas for columnas in variables_numericas if len(df[columnas].unique()) < 20]"
      ]
    },
    {
      "cell_type": "code",
      "execution_count": null,
      "metadata": {
        "id": "ujzGP5ayWAcj"
      },
      "outputs": [
        {
          "ename": "",
          "evalue": "",
          "output_type": "error",
          "traceback": [
            "\u001b[1;31mRunning cells with 'venv (Python 3.7.16)' requires the ipykernel package.\n",
            "\u001b[1;31mRun the following command to install 'ipykernel' into the Python environment. \n",
            "\u001b[1;31mCommand: 'conda install -p c:\\Users\\emi87\\OneDrive\\Escritorio\\Data Projects\\Ml Projects\\BostonHousePricing\\venv ipykernel --update-deps --force-reinstall'"
          ]
        }
      ],
      "source": [
        "variables_temporales = [columna for columna in df.columns if 'Year' in columna or \"Yr\" in columna]\n"
      ]
    },
    {
      "cell_type": "code",
      "execution_count": null,
      "metadata": {
        "colab": {
          "base_uri": "https://localhost:8080/",
          "height": 466
        },
        "id": "Wba6yxfUEr3r",
        "outputId": "82843413-414d-44a3-af03-741c0b877b08"
      },
      "outputs": [
        {
          "ename": "",
          "evalue": "",
          "output_type": "error",
          "traceback": [
            "\u001b[1;31mRunning cells with 'venv (Python 3.7.16)' requires the ipykernel package.\n",
            "\u001b[1;31mRun the following command to install 'ipykernel' into the Python environment. \n",
            "\u001b[1;31mCommand: 'conda install -p c:\\Users\\emi87\\OneDrive\\Escritorio\\Data Projects\\Ml Projects\\BostonHousePricing\\venv ipykernel --update-deps --force-reinstall'"
          ]
        }
      ],
      "source": [
        "sns.histplot(x=df[\"GrLivArea\"], bins = 8)"
      ]
    },
    {
      "cell_type": "code",
      "execution_count": null,
      "metadata": {
        "colab": {
          "base_uri": "https://localhost:8080/",
          "height": 1000
        },
        "id": "oyG0hym1CRyr",
        "outputId": "5271578f-882b-4d4a-fd0e-5b18cdb6cb9d"
      },
      "outputs": [
        {
          "ename": "",
          "evalue": "",
          "output_type": "error",
          "traceback": [
            "\u001b[1;31mRunning cells with 'venv (Python 3.7.16)' requires the ipykernel package.\n",
            "\u001b[1;31mRun the following command to install 'ipykernel' into the Python environment. \n",
            "\u001b[1;31mCommand: 'conda install -p c:\\Users\\emi87\\OneDrive\\Escritorio\\Data Projects\\Ml Projects\\BostonHousePricing\\venv ipykernel --update-deps --force-reinstall'"
          ]
        }
      ],
      "source": [
        "num_variables = len(variables_numericas) ## esto se va a usar para hacer los subplots para saber las columnas\n",
        "num_filas = (num_variables + 2) // 3  # Redondeo hacia arriba de la división entera\n",
        "\n",
        "fig, axes = plt.subplots(num_filas, 3, figsize=(15, num_filas*5))  # Crear un arreglo de subgráficos\n",
        "for i, variable in enumerate(variables_numericas):\n",
        "\n",
        "    fila_actual = i // 3\n",
        "    columna_actual = i % 3\n",
        "\n",
        "    data = df.copy()  # Hacer una copia del DataFrame original\n",
        "    x = data[variable]\n",
        "\n",
        "    sns.histplot(x=x, bins=30, ax=axes[fila_actual, columna_actual])\n",
        "    axes[fila_actual, columna_actual].set_title(f'Histograma de {variable}')\n",
        "\n",
        "\n",
        "for i in range(num_variables, num_filas*3):\n",
        "    fig.delaxes(axes.flatten()[i])\n",
        "\n",
        "plt.tight_layout()\n",
        "plt.show()"
      ]
    },
    {
      "cell_type": "code",
      "execution_count": null,
      "metadata": {
        "colab": {
          "base_uri": "https://localhost:8080/",
          "height": 1000
        },
        "id": "2Gm1hOjoLG6g",
        "outputId": "fb5696e2-105a-4d2d-a31e-3f84ac3633c8"
      },
      "outputs": [
        {
          "ename": "",
          "evalue": "",
          "output_type": "error",
          "traceback": [
            "\u001b[1;31mRunning cells with 'venv (Python 3.7.16)' requires the ipykernel package.\n",
            "\u001b[1;31mRun the following command to install 'ipykernel' into the Python environment. \n",
            "\u001b[1;31mCommand: 'conda install -p c:\\Users\\emi87\\OneDrive\\Escritorio\\Data Projects\\Ml Projects\\BostonHousePricing\\venv ipykernel --update-deps --force-reinstall'"
          ]
        }
      ],
      "source": [
        "variables = len(variables_numericas)\n",
        "filas = (variables+3)//4\n",
        "\n",
        "# Preparacion del gráfico:\n",
        "fig,axes = plt.subplots(filas,4, figsize=(15,15))\n",
        "\n",
        "#Iterador de graficos:\n",
        "for i,columnas in enumerate(variables_numericas):\n",
        "  data=df.copy()\n",
        "  filadata = i//4\n",
        "  coldata = i % 4\n",
        "  sns.scatterplot(x=data[columnas], y= data[\"SalePrice\"], ax=axes[filadata,coldata])\n",
        "  plt.tight_layout()\n",
        "for i in range(variables, filas+3):\n",
        "  fig.delaxes(ax.flatten()[i])\n",
        "plt.show()"
      ]
    },
    {
      "cell_type": "markdown",
      "metadata": {
        "id": "iZyvXsJHgKmT"
      },
      "source": []
    },
    {
      "cell_type": "markdown",
      "metadata": {
        "id": "phQSVbnjY5Ku"
      },
      "source": [
        "# Análisis De Outliers\n"
      ]
    },
    {
      "cell_type": "code",
      "execution_count": null,
      "metadata": {
        "id": "enBoicLwZNa9"
      },
      "outputs": [
        {
          "ename": "",
          "evalue": "",
          "output_type": "error",
          "traceback": [
            "\u001b[1;31mRunning cells with 'venv (Python 3.7.16)' requires the ipykernel package.\n",
            "\u001b[1;31mRun the following command to install 'ipykernel' into the Python environment. \n",
            "\u001b[1;31mCommand: 'conda install -p c:\\Users\\emi87\\OneDrive\\Escritorio\\Data Projects\\Ml Projects\\BostonHousePricing\\venv ipykernel --update-deps --force-reinstall'"
          ]
        }
      ],
      "source": []
    },
    {
      "cell_type": "code",
      "execution_count": null,
      "metadata": {
        "colab": {
          "base_uri": "https://localhost:8080/",
          "height": 1000
        },
        "id": "CNqUkfu_bIPI",
        "outputId": "df763d3d-57d1-47d3-8332-71e7df510143"
      },
      "outputs": [
        {
          "ename": "",
          "evalue": "",
          "output_type": "error",
          "traceback": [
            "\u001b[1;31mRunning cells with 'venv (Python 3.7.16)' requires the ipykernel package.\n",
            "\u001b[1;31mRun the following command to install 'ipykernel' into the Python environment. \n",
            "\u001b[1;31mCommand: 'conda install -p c:\\Users\\emi87\\OneDrive\\Escritorio\\Data Projects\\Ml Projects\\BostonHousePricing\\venv ipykernel --update-deps --force-reinstall'"
          ]
        }
      ],
      "source": [
        "cantidadvariables= len(variables_numericas)\n",
        "filasplot= (cantidadvariables+3) //4\n",
        "\n",
        "fig,axes = plt.subplots(filasplot,4,figsize=(45,filasplot*10))\n",
        "for i, variable in enumerate(variables_numericas):\n",
        "  data = data.copy()\n",
        "  fila = i // 4\n",
        "  columna = i % 4\n",
        "  sns.boxplot(y=data[variable],ax=axes[fila,columna])\n",
        "  axes[fila, columna].set_title(variable, fontsize=24)  # Título del gráfico\n",
        "\n",
        "for i in range(cantidadvariables,cantidadvariables+2):\n",
        "\n",
        "  fig.delaxes(axes.flatten()[i])\n",
        "plt.show()"
      ]
    },
    {
      "cell_type": "markdown",
      "metadata": {
        "id": "wCJQTgdLlcyg"
      },
      "source": [
        "#Variables Categoricas y Precio de vent"
      ]
    },
    {
      "cell_type": "code",
      "execution_count": null,
      "metadata": {
        "colab": {
          "base_uri": "https://localhost:8080/",
          "height": 1000
        },
        "id": "6LGvegXnY9ME",
        "outputId": "f8027d7b-40fe-4e65-e2c9-455b0208f26e"
      },
      "outputs": [
        {
          "ename": "",
          "evalue": "",
          "output_type": "error",
          "traceback": [
            "\u001b[1;31mRunning cells with 'venv (Python 3.7.16)' requires the ipykernel package.\n",
            "\u001b[1;31mRun the following command to install 'ipykernel' into the Python environment. \n",
            "\u001b[1;31mCommand: 'conda install -p c:\\Users\\emi87\\OneDrive\\Escritorio\\Data Projects\\Ml Projects\\BostonHousePricing\\venv ipykernel --update-deps --force-reinstall'"
          ]
        }
      ],
      "source": [
        "for feature in variables_categoricas:\n",
        "    data=df.copy()\n",
        "    data.groupby(feature)[\"SalePrice\"].median().plot.bar()\n",
        "    plt.title(feature)\n",
        "    plt.show()"
      ]
    },
    {
      "cell_type": "code",
      "execution_count": null,
      "metadata": {
        "colab": {
          "base_uri": "https://localhost:8080/",
          "height": 1000
        },
        "id": "-935Xxar6Kyn",
        "outputId": "f740d2ae-a71c-45b5-e6c8-7e12e3e6ffd4"
      },
      "outputs": [
        {
          "ename": "",
          "evalue": "",
          "output_type": "error",
          "traceback": [
            "\u001b[1;31mRunning cells with 'venv (Python 3.7.16)' requires the ipykernel package.\n",
            "\u001b[1;31mRun the following command to install 'ipykernel' into the Python environment. \n",
            "\u001b[1;31mCommand: 'conda install -p c:\\Users\\emi87\\OneDrive\\Escritorio\\Data Projects\\Ml Projects\\BostonHousePricing\\venv ipykernel --update-deps --force-reinstall'"
          ]
        }
      ],
      "source": [
        "for feature in variables_categoricas:\n",
        "  data = df.copy()\n",
        "  data.groupby(feature)['SalePrice'].median().plot.bar()\n",
        "  plt.xlabel(feature)\n",
        "  plt.ylabel(\"Sale Price\")\n",
        "  plt.show()"
      ]
    },
    {
      "cell_type": "markdown",
      "metadata": {
        "id": "K2ihsJEd8w8M"
      },
      "source": [
        "#Feature engineering\n"
      ]
    },
    {
      "cell_type": "code",
      "execution_count": null,
      "metadata": {
        "colab": {
          "base_uri": "https://localhost:8080/"
        },
        "id": "s5qVV3zI-g54",
        "outputId": "c4a9257a-763d-48e8-b264-a0dffef1abe4"
      },
      "outputs": [
        {
          "ename": "",
          "evalue": "",
          "output_type": "error",
          "traceback": [
            "\u001b[1;31mRunning cells with 'venv (Python 3.7.16)' requires the ipykernel package.\n",
            "\u001b[1;31mRun the following command to install 'ipykernel' into the Python environment. \n",
            "\u001b[1;31mCommand: 'conda install -p c:\\Users\\emi87\\OneDrive\\Escritorio\\Data Projects\\Ml Projects\\BostonHousePricing\\venv ipykernel --update-deps --force-reinstall'"
          ]
        }
      ],
      "source": [
        "features_nan = [feature for feature in df.columns if df[feature].isnull().sum()>0 and df[feature].dtypes == \"O\"]\n",
        "for features in features_nan:\n",
        "  print(f'para el feature {features} hay %{np.round(df[features].isnull().mean(),2)}')"
      ]
    },
    {
      "cell_type": "code",
      "execution_count": null,
      "metadata": {
        "id": "Axq3XZ3hqkaQ"
      },
      "outputs": [
        {
          "ename": "",
          "evalue": "",
          "output_type": "error",
          "traceback": [
            "\u001b[1;31mRunning cells with 'venv (Python 3.7.16)' requires the ipykernel package.\n",
            "\u001b[1;31mRun the following command to install 'ipykernel' into the Python environment. \n",
            "\u001b[1;31mCommand: 'conda install -p c:\\Users\\emi87\\OneDrive\\Escritorio\\Data Projects\\Ml Projects\\BostonHousePricing\\venv ipykernel --update-deps --force-reinstall'"
          ]
        }
      ],
      "source": [
        "error= [feature for feature in df.columns if df[feature].isnull().sum()>0]"
      ]
    },
    {
      "cell_type": "code",
      "execution_count": null,
      "metadata": {
        "colab": {
          "base_uri": "https://localhost:8080/"
        },
        "id": "s0iB_N50rNBH",
        "outputId": "6bcac45e-cede-43e6-dbcf-a941486d1c90"
      },
      "outputs": [
        {
          "ename": "",
          "evalue": "",
          "output_type": "error",
          "traceback": [
            "\u001b[1;31mRunning cells with 'venv (Python 3.7.16)' requires the ipykernel package.\n",
            "\u001b[1;31mRun the following command to install 'ipykernel' into the Python environment. \n",
            "\u001b[1;31mCommand: 'conda install -p c:\\Users\\emi87\\OneDrive\\Escritorio\\Data Projects\\Ml Projects\\BostonHousePricing\\venv ipykernel --update-deps --force-reinstall'"
          ]
        }
      ],
      "source": [
        "df[\"Electrical\"]\n"
      ]
    },
    {
      "cell_type": "code",
      "execution_count": null,
      "metadata": {
        "colab": {
          "base_uri": "https://localhost:8080/"
        },
        "id": "Bs0tn6eRNAbJ",
        "outputId": "b21686f7-663c-4f53-9b0c-d81391eb448d"
      },
      "outputs": [
        {
          "ename": "",
          "evalue": "",
          "output_type": "error",
          "traceback": [
            "\u001b[1;31mRunning cells with 'venv (Python 3.7.16)' requires the ipykernel package.\n",
            "\u001b[1;31mRun the following command to install 'ipykernel' into the Python environment. \n",
            "\u001b[1;31mCommand: 'conda install -p c:\\Users\\emi87\\OneDrive\\Escritorio\\Data Projects\\Ml Projects\\BostonHousePricing\\venv ipykernel --update-deps --force-reinstall'"
          ]
        }
      ],
      "source": [
        "numerical_nan = [feature for feature in df.columns if df[feature].isnull().sum()>1 and df[feature].dtypes != \"O\"]\n",
        "for features in numerical_nan:\n",
        "  print(f'para el feature {features} hay %{np.round(df[features].isnull().mean(),2)}')"
      ]
    },
    {
      "cell_type": "code",
      "execution_count": null,
      "metadata": {
        "colab": {
          "base_uri": "https://localhost:8080/"
        },
        "id": "9PMuYKiPrJ7i",
        "outputId": "e2d59166-56b3-41f3-e924-51656286eb97"
      },
      "outputs": [
        {
          "ename": "",
          "evalue": "",
          "output_type": "error",
          "traceback": [
            "\u001b[1;31mRunning cells with 'venv (Python 3.7.16)' requires the ipykernel package.\n",
            "\u001b[1;31mRun the following command to install 'ipykernel' into the Python environment. \n",
            "\u001b[1;31mCommand: 'conda install -p c:\\Users\\emi87\\OneDrive\\Escritorio\\Data Projects\\Ml Projects\\BostonHousePricing\\venv ipykernel --update-deps --force-reinstall'"
          ]
        }
      ],
      "source": [
        "numerical_nan1 = [feature for feature in dftest.columns if dftest[feature].isnull().sum()>0 and dftest[feature].dtypes != \"O\"]\n",
        "\n",
        "for features in numerical_nan:\n",
        "  print(f'para el feature {features} hay %{np.round(dftest[features].isnull().mean(),2)}')"
      ]
    },
    {
      "cell_type": "code",
      "execution_count": null,
      "metadata": {
        "id": "YtJhuLFtcoXS"
      },
      "outputs": [
        {
          "ename": "",
          "evalue": "",
          "output_type": "error",
          "traceback": [
            "\u001b[1;31mRunning cells with 'venv (Python 3.7.16)' requires the ipykernel package.\n",
            "\u001b[1;31mRun the following command to install 'ipykernel' into the Python environment. \n",
            "\u001b[1;31mCommand: 'conda install -p c:\\Users\\emi87\\OneDrive\\Escritorio\\Data Projects\\Ml Projects\\BostonHousePricing\\venv ipykernel --update-deps --force-reinstall'"
          ]
        }
      ],
      "source": [
        "missingTest = [feature for feature in dftest.columns if dftest[feature].isnull().sum()>0 and dftest[feature].dtypes == \"O\"]\n"
      ]
    },
    {
      "cell_type": "code",
      "execution_count": null,
      "metadata": {
        "colab": {
          "base_uri": "https://localhost:8080/"
        },
        "id": "zBzl_TDu3_PO",
        "outputId": "a8abd4e0-3237-4ff5-ec2f-0620b3c994da"
      },
      "outputs": [
        {
          "ename": "",
          "evalue": "",
          "output_type": "error",
          "traceback": [
            "\u001b[1;31mRunning cells with 'venv (Python 3.7.16)' requires the ipykernel package.\n",
            "\u001b[1;31mRun the following command to install 'ipykernel' into the Python environment. \n",
            "\u001b[1;31mCommand: 'conda install -p c:\\Users\\emi87\\OneDrive\\Escritorio\\Data Projects\\Ml Projects\\BostonHousePricing\\venv ipykernel --update-deps --force-reinstall'"
          ]
        }
      ],
      "source": [
        "missingTest"
      ]
    },
    {
      "cell_type": "code",
      "execution_count": null,
      "metadata": {
        "id": "VHjnymZ8NRpv"
      },
      "outputs": [
        {
          "ename": "",
          "evalue": "",
          "output_type": "error",
          "traceback": [
            "\u001b[1;31mRunning cells with 'venv (Python 3.7.16)' requires the ipykernel package.\n",
            "\u001b[1;31mRun the following command to install 'ipykernel' into the Python environment. \n",
            "\u001b[1;31mCommand: 'conda install -p c:\\Users\\emi87\\OneDrive\\Escritorio\\Data Projects\\Ml Projects\\BostonHousePricing\\venv ipykernel --update-deps --force-reinstall'"
          ]
        }
      ],
      "source": [
        "def remplazarNulos (dataset,arraydevalores):\n",
        "  data=dataset.copy()\n",
        "  data[arraydevalores]= data[arraydevalores].fillna(\"Missing\")\n",
        "  return data"
      ]
    },
    {
      "cell_type": "code",
      "execution_count": null,
      "metadata": {
        "id": "ozrTOaWZOPd8"
      },
      "outputs": [
        {
          "ename": "",
          "evalue": "",
          "output_type": "error",
          "traceback": [
            "\u001b[1;31mRunning cells with 'venv (Python 3.7.16)' requires the ipykernel package.\n",
            "\u001b[1;31mRun the following command to install 'ipykernel' into the Python environment. \n",
            "\u001b[1;31mCommand: 'conda install -p c:\\Users\\emi87\\OneDrive\\Escritorio\\Data Projects\\Ml Projects\\BostonHousePricing\\venv ipykernel --update-deps --force-reinstall'"
          ]
        }
      ],
      "source": [
        "df = remplazarNulos(df,features_nan)\n",
        "dftest = remplazarNulos(dftest,missingTest) #transformacion en test"
      ]
    },
    {
      "cell_type": "code",
      "execution_count": null,
      "metadata": {
        "colab": {
          "base_uri": "https://localhost:8080/"
        },
        "id": "RjJkC_W1PFtw",
        "outputId": "33141219-014d-4a7b-b63c-0ec1065f54fd"
      },
      "outputs": [
        {
          "ename": "",
          "evalue": "",
          "output_type": "error",
          "traceback": [
            "\u001b[1;31mRunning cells with 'venv (Python 3.7.16)' requires the ipykernel package.\n",
            "\u001b[1;31mRun the following command to install 'ipykernel' into the Python environment. \n",
            "\u001b[1;31mCommand: 'conda install -p c:\\Users\\emi87\\OneDrive\\Escritorio\\Data Projects\\Ml Projects\\BostonHousePricing\\venv ipykernel --update-deps --force-reinstall'"
          ]
        }
      ],
      "source": [
        "for feature in numerical_nan:\n",
        "  mediana= df[feature].median()\n",
        "\n",
        "  df[feature+'nan']=np.where(df[feature].isnull(),1,0)\n",
        "  df[feature].fillna(mediana,inplace=True)\n",
        "df[numerical_nan].isnull().sum()\n"
      ]
    },
    {
      "cell_type": "code",
      "execution_count": null,
      "metadata": {
        "colab": {
          "base_uri": "https://localhost:8080/"
        },
        "id": "1XtbWFOzoUzB",
        "outputId": "70b06bb7-73e8-4942-8f60-340cfa4a9cfe"
      },
      "outputs": [
        {
          "ename": "",
          "evalue": "",
          "output_type": "error",
          "traceback": [
            "\u001b[1;31mRunning cells with 'venv (Python 3.7.16)' requires the ipykernel package.\n",
            "\u001b[1;31mRun the following command to install 'ipykernel' into the Python environment. \n",
            "\u001b[1;31mCommand: 'conda install -p c:\\Users\\emi87\\OneDrive\\Escritorio\\Data Projects\\Ml Projects\\BostonHousePricing\\venv ipykernel --update-deps --force-reinstall'"
          ]
        }
      ],
      "source": [
        "for feature in numerical_nan1:\n",
        "  mediana= dftest[feature].median()\n",
        "\n",
        "  dftest[feature+'nan']=np.where(dftest[feature].isnull(),1,0)\n",
        "  dftest[feature].fillna(mediana,inplace=True)# transformacion en test\n",
        "dftest[numerical_nan1].isnull().sum()\n"
      ]
    },
    {
      "cell_type": "code",
      "execution_count": null,
      "metadata": {
        "id": "j8TRkVitQm5C"
      },
      "outputs": [
        {
          "ename": "",
          "evalue": "",
          "output_type": "error",
          "traceback": [
            "\u001b[1;31mRunning cells with 'venv (Python 3.7.16)' requires the ipykernel package.\n",
            "\u001b[1;31mRun the following command to install 'ipykernel' into the Python environment. \n",
            "\u001b[1;31mCommand: 'conda install -p c:\\Users\\emi87\\OneDrive\\Escritorio\\Data Projects\\Ml Projects\\BostonHousePricing\\venv ipykernel --update-deps --force-reinstall'"
          ]
        }
      ],
      "source": [
        "for feature in ['YearBuilt','YearRemodAdd','GarageYrBlt']:\n",
        "  df[feature] = df[\"YrSold\"]-df[feature]\n"
      ]
    },
    {
      "cell_type": "code",
      "execution_count": null,
      "metadata": {
        "id": "KhXX-qtmbCrW"
      },
      "outputs": [
        {
          "ename": "",
          "evalue": "",
          "output_type": "error",
          "traceback": [
            "\u001b[1;31mRunning cells with 'venv (Python 3.7.16)' requires the ipykernel package.\n",
            "\u001b[1;31mRun the following command to install 'ipykernel' into the Python environment. \n",
            "\u001b[1;31mCommand: 'conda install -p c:\\Users\\emi87\\OneDrive\\Escritorio\\Data Projects\\Ml Projects\\BostonHousePricing\\venv ipykernel --update-deps --force-reinstall'"
          ]
        }
      ],
      "source": [
        "for feature in ['YearBuilt','YearRemodAdd','GarageYrBlt']:#transformacion en test\n",
        "  dftest[feature] = dftest[\"YrSold\"]-dftest[feature]"
      ]
    },
    {
      "cell_type": "code",
      "execution_count": null,
      "metadata": {
        "id": "TOG6QLQwS235"
      },
      "outputs": [
        {
          "ename": "",
          "evalue": "",
          "output_type": "error",
          "traceback": [
            "\u001b[1;31mRunning cells with 'venv (Python 3.7.16)' requires the ipykernel package.\n",
            "\u001b[1;31mRun the following command to install 'ipykernel' into the Python environment. \n",
            "\u001b[1;31mCommand: 'conda install -p c:\\Users\\emi87\\OneDrive\\Escritorio\\Data Projects\\Ml Projects\\BostonHousePricing\\venv ipykernel --update-deps --force-reinstall'"
          ]
        }
      ],
      "source": [
        "variablessincero = [feature for feature in variables_numericas if (df[feature]!=0).all() and feature not in [\"Id\",\"SalePrice\"] ]"
      ]
    },
    {
      "cell_type": "code",
      "execution_count": null,
      "metadata": {
        "id": "53Fk9_u7U2t6"
      },
      "outputs": [
        {
          "ename": "",
          "evalue": "",
          "output_type": "error",
          "traceback": [
            "\u001b[1;31mRunning cells with 'venv (Python 3.7.16)' requires the ipykernel package.\n",
            "\u001b[1;31mRun the following command to install 'ipykernel' into the Python environment. \n",
            "\u001b[1;31mCommand: 'conda install -p c:\\Users\\emi87\\OneDrive\\Escritorio\\Data Projects\\Ml Projects\\BostonHousePricing\\venv ipykernel --update-deps --force-reinstall'"
          ]
        }
      ],
      "source": [
        "for feature in variablessincero:\n",
        "  df[feature]=np.log(df[feature])\n",
        "  dftest[feature]=np.log(dftest[feature]) # Aplicacion al test\n"
      ]
    },
    {
      "cell_type": "code",
      "execution_count": null,
      "metadata": {
        "colab": {
          "base_uri": "https://localhost:8080/",
          "height": 255
        },
        "id": "F5-3XSCH_l73",
        "outputId": "23f55cfb-719b-4842-d8b3-1ef019260920"
      },
      "outputs": [
        {
          "ename": "",
          "evalue": "",
          "output_type": "error",
          "traceback": [
            "\u001b[1;31mRunning cells with 'venv (Python 3.7.16)' requires the ipykernel package.\n",
            "\u001b[1;31mRun the following command to install 'ipykernel' into the Python environment. \n",
            "\u001b[1;31mCommand: 'conda install -p c:\\Users\\emi87\\OneDrive\\Escritorio\\Data Projects\\Ml Projects\\BostonHousePricing\\venv ipykernel --update-deps --force-reinstall'"
          ]
        }
      ],
      "source": [
        "dftest.head()"
      ]
    },
    {
      "cell_type": "code",
      "execution_count": null,
      "metadata": {
        "colab": {
          "base_uri": "https://localhost:8080/"
        },
        "id": "bjdK49Syspen",
        "outputId": "04c23769-a5f2-4835-9157-35ca7d376eec"
      },
      "outputs": [
        {
          "ename": "",
          "evalue": "",
          "output_type": "error",
          "traceback": [
            "\u001b[1;31mRunning cells with 'venv (Python 3.7.16)' requires the ipykernel package.\n",
            "\u001b[1;31mRun the following command to install 'ipykernel' into the Python environment. \n",
            "\u001b[1;31mCommand: 'conda install -p c:\\Users\\emi87\\OneDrive\\Escritorio\\Data Projects\\Ml Projects\\BostonHousePricing\\venv ipykernel --update-deps --force-reinstall'"
          ]
        }
      ],
      "source": [
        "dftest.isnull().sum().sum()"
      ]
    },
    {
      "cell_type": "markdown",
      "metadata": {
        "id": "5DW6Le8HVIDI"
      },
      "source": [
        "#Remover Categoricas NO relevantes"
      ]
    },
    {
      "cell_type": "markdown",
      "metadata": {
        "id": "BexEvwPAVGOP"
      },
      "source": []
    },
    {
      "cell_type": "code",
      "execution_count": null,
      "metadata": {
        "id": "zVXqkaf1VG5o"
      },
      "outputs": [
        {
          "ename": "",
          "evalue": "",
          "output_type": "error",
          "traceback": [
            "\u001b[1;31mRunning cells with 'venv (Python 3.7.16)' requires the ipykernel package.\n",
            "\u001b[1;31mRun the following command to install 'ipykernel' into the Python environment. \n",
            "\u001b[1;31mCommand: 'conda install -p c:\\Users\\emi87\\OneDrive\\Escritorio\\Data Projects\\Ml Projects\\BostonHousePricing\\venv ipykernel --update-deps --force-reinstall'"
          ]
        }
      ],
      "source": [
        "for feature in variables_categoricas:\n",
        "  temp=df.groupby(feature)[\"SalePrice\"].count()/len(df)\n",
        "  temp_df=temp[temp>0.01].index\n",
        "  df[feature]=np.where(df[feature].isin(temp_df),df[feature],\"Rare_var\")\n",
        "  dftest[feature]=np.where(dftest[feature].isin(temp_df),dftest[feature],\"Rare_var\")\n"
      ]
    },
    {
      "cell_type": "code",
      "execution_count": null,
      "metadata": {
        "colab": {
          "base_uri": "https://localhost:8080/"
        },
        "id": "42jDNa03xtH_",
        "outputId": "7de52899-477d-437c-f524-aeeee884d7b9"
      },
      "outputs": [
        {
          "ename": "",
          "evalue": "",
          "output_type": "error",
          "traceback": [
            "\u001b[1;31mRunning cells with 'venv (Python 3.7.16)' requires the ipykernel package.\n",
            "\u001b[1;31mRun the following command to install 'ipykernel' into the Python environment. \n",
            "\u001b[1;31mCommand: 'conda install -p c:\\Users\\emi87\\OneDrive\\Escritorio\\Data Projects\\Ml Projects\\BostonHousePricing\\venv ipykernel --update-deps --force-reinstall'"
          ]
        }
      ],
      "source": [
        "for feature in variables_categoricas:\n",
        "    labels_ordered=df.groupby([feature])['SalePrice'].mean().sort_values().index\n",
        "    labels_ordered={k:i for i,k in enumerate(labels_ordered,0)}\n",
        "    print(labels_ordered)\n",
        "\n",
        "    df[feature]=df[feature].map(labels_ordered)\n",
        "    dftest[feature]=dftest[feature].map(labels_ordered)"
      ]
    },
    {
      "cell_type": "code",
      "execution_count": null,
      "metadata": {
        "id": "zzFNSGulf5le"
      },
      "outputs": [
        {
          "ename": "",
          "evalue": "",
          "output_type": "error",
          "traceback": [
            "\u001b[1;31mRunning cells with 'venv (Python 3.7.16)' requires the ipykernel package.\n",
            "\u001b[1;31mRun the following command to install 'ipykernel' into the Python environment. \n",
            "\u001b[1;31mCommand: 'conda install -p c:\\Users\\emi87\\OneDrive\\Escritorio\\Data Projects\\Ml Projects\\BostonHousePricing\\venv ipykernel --update-deps --force-reinstall'"
          ]
        }
      ],
      "source": [
        "dasd = [feature for feature in dftest.columns if dftest[feature].isnull().sum()>0]"
      ]
    },
    {
      "cell_type": "code",
      "execution_count": null,
      "metadata": {
        "id": "8bvd7wvr6oMW"
      },
      "outputs": [
        {
          "ename": "",
          "evalue": "",
          "output_type": "error",
          "traceback": [
            "\u001b[1;31mRunning cells with 'venv (Python 3.7.16)' requires the ipykernel package.\n",
            "\u001b[1;31mRun the following command to install 'ipykernel' into the Python environment. \n",
            "\u001b[1;31mCommand: 'conda install -p c:\\Users\\emi87\\OneDrive\\Escritorio\\Data Projects\\Ml Projects\\BostonHousePricing\\venv ipykernel --update-deps --force-reinstall'"
          ]
        }
      ],
      "source": [
        "dftest[\"KitchenQual\"].fillna(0,inplace=True)"
      ]
    },
    {
      "cell_type": "code",
      "execution_count": null,
      "metadata": {
        "id": "Bxr6-oClkXey"
      },
      "outputs": [
        {
          "ename": "",
          "evalue": "",
          "output_type": "error",
          "traceback": [
            "\u001b[1;31mRunning cells with 'venv (Python 3.7.16)' requires the ipykernel package.\n",
            "\u001b[1;31mRun the following command to install 'ipykernel' into the Python environment. \n",
            "\u001b[1;31mCommand: 'conda install -p c:\\Users\\emi87\\OneDrive\\Escritorio\\Data Projects\\Ml Projects\\BostonHousePricing\\venv ipykernel --update-deps --force-reinstall'"
          ]
        }
      ],
      "source": [
        "columns_to_drop = [\n",
        "    'BsmtCond', 'BsmtQual', 'BsmtUnfSF', 'OverallCond', 'WoodDeckSF', 'Exterior1st',\n",
        "    'Exterior2nd', 'TotRmsAbvGrd', 'BsmtFullBath', 'GarageFinish', 'GarageYrBlt',\n",
        "    'HalfBath', 'GarageCars', 'BsmtExposure', 'EnclosedPorch', 'MSSubClass', 'Condition1',\n",
        "    'ExterQual', 'SaleCondition', 'GarageQual', 'Electrical', 'LotShape', 'RoofMatl',\n",
        "    'LandContour', 'GarageType', 'CentralAir', 'Fireplaces', 'LandSlope', 'LotConfig',\n",
        "    'RoofStyle', 'MasVnrType', 'LowQualFinSF', 'BsmtFinType1', 'GarageYrBltnan', 'MSZoning',\n",
        "    'HouseStyle', 'BldgType', 'BsmtHalfBath', 'HeatingQC', '3SsnPorch', 'MasVnrAreanan',\n",
        "    'ScreenPorch', 'GarageCond', 'Fence', 'PavedDrive', 'BsmtFinSF2', 'PoolArea',\n",
        "    'BedroomAbvGr', 'SaleType', 'BsmtFinType2', 'LotFrontagenan', 'KitchenAbvGr',\n",
        "    'Foundation', 'PoolQC', 'Alley', 'ExterCond', 'Functional', 'Heating', 'MiscVal',\n",
        "    'MiscFeature', 'Street', 'Condition2', 'Utilities',\"MoSold\"\n",
        "]"
      ]
    },
    {
      "cell_type": "code",
      "execution_count": null,
      "metadata": {
        "id": "GGnHy-s9mGzF"
      },
      "outputs": [
        {
          "ename": "",
          "evalue": "",
          "output_type": "error",
          "traceback": [
            "\u001b[1;31mRunning cells with 'venv (Python 3.7.16)' requires the ipykernel package.\n",
            "\u001b[1;31mRun the following command to install 'ipykernel' into the Python environment. \n",
            "\u001b[1;31mCommand: 'conda install -p c:\\Users\\emi87\\OneDrive\\Escritorio\\Data Projects\\Ml Projects\\BostonHousePricing\\venv ipykernel --update-deps --force-reinstall'"
          ]
        }
      ],
      "source": [
        "feature_scales =['LotFrontage', 'LotArea', 'Neighborhood', 'OverallQual', 'YearBuilt',\n",
        "       'YearRemodAdd', 'MasVnrArea', 'BsmtFinSF1', 'TotalBsmtSF', '1stFlrSF',\n",
        "       '2ndFlrSF', 'GrLivArea', 'FullBath', 'KitchenQual', 'FireplaceQu',\n",
        "       'GarageArea', 'OpenPorchSF',  'YrSold']"
      ]
    },
    {
      "cell_type": "code",
      "execution_count": null,
      "metadata": {
        "colab": {
          "base_uri": "https://localhost:8080/",
          "height": 443
        },
        "id": "XGKKVy9X6kN3",
        "outputId": "013f2d25-ae4d-4de7-a845-f5ea1a4a9ed7"
      },
      "outputs": [
        {
          "ename": "",
          "evalue": "",
          "output_type": "error",
          "traceback": [
            "\u001b[1;31mRunning cells with 'venv (Python 3.7.16)' requires the ipykernel package.\n",
            "\u001b[1;31mRun the following command to install 'ipykernel' into the Python environment. \n",
            "\u001b[1;31mCommand: 'conda install -p c:\\Users\\emi87\\OneDrive\\Escritorio\\Data Projects\\Ml Projects\\BostonHousePricing\\venv ipykernel --update-deps --force-reinstall'"
          ]
        }
      ],
      "source": [
        "dftest[feature_scale]"
      ]
    },
    {
      "cell_type": "markdown",
      "metadata": {
        "id": "OpT9b8ULqDPj"
      },
      "source": [
        "#Escalar"
      ]
    },
    {
      "cell_type": "code",
      "execution_count": null,
      "metadata": {
        "id": "5hTnjMS3qOP2"
      },
      "outputs": [
        {
          "ename": "",
          "evalue": "",
          "output_type": "error",
          "traceback": [
            "\u001b[1;31mRunning cells with 'venv (Python 3.7.16)' requires the ipykernel package.\n",
            "\u001b[1;31mRun the following command to install 'ipykernel' into the Python environment. \n",
            "\u001b[1;31mCommand: 'conda install -p c:\\Users\\emi87\\OneDrive\\Escritorio\\Data Projects\\Ml Projects\\BostonHousePricing\\venv ipykernel --update-deps --force-reinstall'"
          ]
        }
      ],
      "source": [
        "feature_scale= [feature for feature in df.columns if feature not in [\"SalePrice\",\"Id\"]]"
      ]
    },
    {
      "cell_type": "code",
      "execution_count": null,
      "metadata": {
        "id": "Wif6rn48qFkR"
      },
      "outputs": [
        {
          "ename": "",
          "evalue": "",
          "output_type": "error",
          "traceback": [
            "\u001b[1;31mRunning cells with 'venv (Python 3.7.16)' requires the ipykernel package.\n",
            "\u001b[1;31mRun the following command to install 'ipykernel' into the Python environment. \n",
            "\u001b[1;31mCommand: 'conda install -p c:\\Users\\emi87\\OneDrive\\Escritorio\\Data Projects\\Ml Projects\\BostonHousePricing\\venv ipykernel --update-deps --force-reinstall'"
          ]
        }
      ],
      "source": [
        "from sklearn.preprocessing import MinMaxScaler\n",
        "scaler = MinMaxScaler()"
      ]
    },
    {
      "cell_type": "code",
      "execution_count": null,
      "metadata": {
        "id": "janAsKWO-W_W"
      },
      "outputs": [
        {
          "ename": "",
          "evalue": "",
          "output_type": "error",
          "traceback": [
            "\u001b[1;31mRunning cells with 'venv (Python 3.7.16)' requires the ipykernel package.\n",
            "\u001b[1;31mRun the following command to install 'ipykernel' into the Python environment. \n",
            "\u001b[1;31mCommand: 'conda install -p c:\\Users\\emi87\\OneDrive\\Escritorio\\Data Projects\\Ml Projects\\BostonHousePricing\\venv ipykernel --update-deps --force-reinstall'"
          ]
        }
      ],
      "source": []
    },
    {
      "cell_type": "code",
      "execution_count": null,
      "metadata": {
        "colab": {
          "base_uri": "https://localhost:8080/",
          "height": 443
        },
        "id": "wCLmoWlA-2Mx",
        "outputId": "8b0cdf5a-ffc2-47d3-ddaa-78cfb23b0758"
      },
      "outputs": [
        {
          "ename": "",
          "evalue": "",
          "output_type": "error",
          "traceback": [
            "\u001b[1;31mRunning cells with 'venv (Python 3.7.16)' requires the ipykernel package.\n",
            "\u001b[1;31mRun the following command to install 'ipykernel' into the Python environment. \n",
            "\u001b[1;31mCommand: 'conda install -p c:\\Users\\emi87\\OneDrive\\Escritorio\\Data Projects\\Ml Projects\\BostonHousePricing\\venv ipykernel --update-deps --force-reinstall'"
          ]
        }
      ],
      "source": [
        "dftest[feature_scale]"
      ]
    },
    {
      "cell_type": "code",
      "execution_count": null,
      "metadata": {
        "id": "vuVeGL-2k1M-"
      },
      "outputs": [
        {
          "ename": "",
          "evalue": "",
          "output_type": "error",
          "traceback": [
            "\u001b[1;31mRunning cells with 'venv (Python 3.7.16)' requires the ipykernel package.\n",
            "\u001b[1;31mRun the following command to install 'ipykernel' into the Python environment. \n",
            "\u001b[1;31mCommand: 'conda install -p c:\\Users\\emi87\\OneDrive\\Escritorio\\Data Projects\\Ml Projects\\BostonHousePricing\\venv ipykernel --update-deps --force-reinstall'"
          ]
        }
      ],
      "source": [
        "dfescaled = df[['LotFrontage', 'LotArea', 'Neighborhood', 'OverallQual', 'YearBuilt',\n",
        "       'YearRemodAdd', 'MasVnrArea', 'BsmtFinSF1', 'TotalBsmtSF', '1stFlrSF',\n",
        "       '2ndFlrSF', 'GrLivArea', 'FullBath', 'KitchenQual', 'FireplaceQu',\n",
        "       'GarageArea', 'OpenPorchSF',  'YrSold']]"
      ]
    },
    {
      "cell_type": "code",
      "execution_count": null,
      "metadata": {
        "colab": {
          "base_uri": "https://localhost:8080/",
          "height": 74
        },
        "id": "2IuoGKBler8Q",
        "outputId": "274052e2-312e-4be3-bc9b-339b6affd19e"
      },
      "outputs": [
        {
          "ename": "",
          "evalue": "",
          "output_type": "error",
          "traceback": [
            "\u001b[1;31mRunning cells with 'venv (Python 3.7.16)' requires the ipykernel package.\n",
            "\u001b[1;31mRun the following command to install 'ipykernel' into the Python environment. \n",
            "\u001b[1;31mCommand: 'conda install -p c:\\Users\\emi87\\OneDrive\\Escritorio\\Data Projects\\Ml Projects\\BostonHousePricing\\venv ipykernel --update-deps --force-reinstall'"
          ]
        }
      ],
      "source": [
        "scaler.fit(dfescaled)"
      ]
    },
    {
      "cell_type": "code",
      "execution_count": null,
      "metadata": {
        "colab": {
          "base_uri": "https://localhost:8080/",
          "height": 443
        },
        "id": "8pxTdxkr5gg-",
        "outputId": "dd830581-6348-4c36-9b45-2fedcb0788e7"
      },
      "outputs": [
        {
          "ename": "",
          "evalue": "",
          "output_type": "error",
          "traceback": [
            "\u001b[1;31mRunning cells with 'venv (Python 3.7.16)' requires the ipykernel package.\n",
            "\u001b[1;31mRun the following command to install 'ipykernel' into the Python environment. \n",
            "\u001b[1;31mCommand: 'conda install -p c:\\Users\\emi87\\OneDrive\\Escritorio\\Data Projects\\Ml Projects\\BostonHousePricing\\venv ipykernel --update-deps --force-reinstall'"
          ]
        }
      ],
      "source": [
        "dftest[feature_scale]"
      ]
    },
    {
      "cell_type": "code",
      "execution_count": null,
      "metadata": {
        "colab": {
          "base_uri": "https://localhost:8080/"
        },
        "id": "B9fQRqJUjlX3",
        "outputId": "d9259ce4-a839-4399-e9df-f0057246bf1c"
      },
      "outputs": [
        {
          "ename": "",
          "evalue": "",
          "output_type": "error",
          "traceback": [
            "\u001b[1;31mRunning cells with 'venv (Python 3.7.16)' requires the ipykernel package.\n",
            "\u001b[1;31mRun the following command to install 'ipykernel' into the Python environment. \n",
            "\u001b[1;31mCommand: 'conda install -p c:\\Users\\emi87\\OneDrive\\Escritorio\\Data Projects\\Ml Projects\\BostonHousePricing\\venv ipykernel --update-deps --force-reinstall'"
          ]
        }
      ],
      "source": [
        "scaler.transform(dftest[['LotFrontage', 'LotArea', 'Neighborhood', 'OverallQual', 'YearBuilt',\n",
        "       'YearRemodAdd', 'MasVnrArea', 'BsmtFinSF1', 'TotalBsmtSF', '1stFlrSF',\n",
        "       '2ndFlrSF', 'GrLivArea', 'FullBath', 'KitchenQual', 'FireplaceQu',\n",
        "       'GarageArea', 'OpenPorchSF',  'YrSold']])"
      ]
    },
    {
      "cell_type": "code",
      "execution_count": null,
      "metadata": {
        "id": "i_HwLHMU0dhz"
      },
      "outputs": [
        {
          "ename": "",
          "evalue": "",
          "output_type": "error",
          "traceback": [
            "\u001b[1;31mRunning cells with 'venv (Python 3.7.16)' requires the ipykernel package.\n",
            "\u001b[1;31mRun the following command to install 'ipykernel' into the Python environment. \n",
            "\u001b[1;31mCommand: 'conda install -p c:\\Users\\emi87\\OneDrive\\Escritorio\\Data Projects\\Ml Projects\\BostonHousePricing\\venv ipykernel --update-deps --force-reinstall'"
          ]
        }
      ],
      "source": [
        "data = pd.concat([df[['Id', 'SalePrice']].reset_index(drop=True),\n",
        "                    pd.DataFrame(scaler.transform(df[feature_scales]), columns=feature_scales)],\n",
        "                    axis=1)"
      ]
    },
    {
      "cell_type": "code",
      "execution_count": null,
      "metadata": {
        "id": "kIUWRaMb0pW2"
      },
      "outputs": [
        {
          "ename": "",
          "evalue": "",
          "output_type": "error",
          "traceback": [
            "\u001b[1;31mRunning cells with 'venv (Python 3.7.16)' requires the ipykernel package.\n",
            "\u001b[1;31mRun the following command to install 'ipykernel' into the Python environment. \n",
            "\u001b[1;31mCommand: 'conda install -p c:\\Users\\emi87\\OneDrive\\Escritorio\\Data Projects\\Ml Projects\\BostonHousePricing\\venv ipykernel --update-deps --force-reinstall'"
          ]
        }
      ],
      "source": [
        "data.to_csv('X_train.csv',index=False)"
      ]
    },
    {
      "cell_type": "code",
      "execution_count": null,
      "metadata": {
        "id": "aVBanH849t_b"
      },
      "outputs": [
        {
          "ename": "",
          "evalue": "",
          "output_type": "error",
          "traceback": [
            "\u001b[1;31mRunning cells with 'venv (Python 3.7.16)' requires the ipykernel package.\n",
            "\u001b[1;31mRun the following command to install 'ipykernel' into the Python environment. \n",
            "\u001b[1;31mCommand: 'conda install -p c:\\Users\\emi87\\OneDrive\\Escritorio\\Data Projects\\Ml Projects\\BostonHousePricing\\venv ipykernel --update-deps --force-reinstall'"
          ]
        }
      ],
      "source": [
        "testid = dftest[\"Id\"]"
      ]
    },
    {
      "cell_type": "code",
      "execution_count": null,
      "metadata": {
        "colab": {
          "base_uri": "https://localhost:8080/",
          "height": 443
        },
        "id": "MJt7dB7NIbI3",
        "outputId": "0d8b40e7-37e5-4f3e-e8b0-ceb422387920"
      },
      "outputs": [
        {
          "ename": "",
          "evalue": "",
          "output_type": "error",
          "traceback": [
            "\u001b[1;31mRunning cells with 'venv (Python 3.7.16)' requires the ipykernel package.\n",
            "\u001b[1;31mRun the following command to install 'ipykernel' into the Python environment. \n",
            "\u001b[1;31mCommand: 'conda install -p c:\\Users\\emi87\\OneDrive\\Escritorio\\Data Projects\\Ml Projects\\BostonHousePricing\\venv ipykernel --update-deps --force-reinstall'"
          ]
        }
      ],
      "source": [
        "dftest[feature_scale]"
      ]
    },
    {
      "cell_type": "code",
      "execution_count": null,
      "metadata": {
        "id": "75SSHIZXnvUo"
      },
      "outputs": [
        {
          "ename": "",
          "evalue": "",
          "output_type": "error",
          "traceback": [
            "\u001b[1;31mRunning cells with 'venv (Python 3.7.16)' requires the ipykernel package.\n",
            "\u001b[1;31mRun the following command to install 'ipykernel' into the Python environment. \n",
            "\u001b[1;31mCommand: 'conda install -p c:\\Users\\emi87\\OneDrive\\Escritorio\\Data Projects\\Ml Projects\\BostonHousePricing\\venv ipykernel --update-deps --force-reinstall'"
          ]
        }
      ],
      "source": [
        "test =  pd.DataFrame(scaler.transform(dftest[feature_scales]), columns=feature_scales)"
      ]
    },
    {
      "cell_type": "code",
      "execution_count": null,
      "metadata": {
        "id": "QS0BixKnCsx0"
      },
      "outputs": [
        {
          "ename": "",
          "evalue": "",
          "output_type": "error",
          "traceback": [
            "\u001b[1;31mRunning cells with 'venv (Python 3.7.16)' requires the ipykernel package.\n",
            "\u001b[1;31mRun the following command to install 'ipykernel' into the Python environment. \n",
            "\u001b[1;31mCommand: 'conda install -p c:\\Users\\emi87\\OneDrive\\Escritorio\\Data Projects\\Ml Projects\\BostonHousePricing\\venv ipykernel --update-deps --force-reinstall'"
          ]
        }
      ],
      "source": [
        "X_train=data"
      ]
    },
    {
      "cell_type": "code",
      "execution_count": null,
      "metadata": {
        "id": "snTe9YXSC2IS"
      },
      "outputs": [
        {
          "ename": "",
          "evalue": "",
          "output_type": "error",
          "traceback": [
            "\u001b[1;31mRunning cells with 'venv (Python 3.7.16)' requires the ipykernel package.\n",
            "\u001b[1;31mRun the following command to install 'ipykernel' into the Python environment. \n",
            "\u001b[1;31mCommand: 'conda install -p c:\\Users\\emi87\\OneDrive\\Escritorio\\Data Projects\\Ml Projects\\BostonHousePricing\\venv ipykernel --update-deps --force-reinstall'"
          ]
        }
      ],
      "source": [
        "from sklearn.linear_model import Lasso\n",
        "from sklearn.feature_selection import SelectFromModel"
      ]
    },
    {
      "cell_type": "code",
      "execution_count": null,
      "metadata": {
        "id": "-Pv7jQLrC4ra"
      },
      "outputs": [
        {
          "ename": "",
          "evalue": "",
          "output_type": "error",
          "traceback": [
            "\u001b[1;31mRunning cells with 'venv (Python 3.7.16)' requires the ipykernel package.\n",
            "\u001b[1;31mRun the following command to install 'ipykernel' into the Python environment. \n",
            "\u001b[1;31mCommand: 'conda install -p c:\\Users\\emi87\\OneDrive\\Escritorio\\Data Projects\\Ml Projects\\BostonHousePricing\\venv ipykernel --update-deps --force-reinstall'"
          ]
        }
      ],
      "source": [
        "y_train=data[['SalePrice']]"
      ]
    },
    {
      "cell_type": "code",
      "execution_count": null,
      "metadata": {
        "id": "va_bL5WlC7Yf"
      },
      "outputs": [
        {
          "ename": "",
          "evalue": "",
          "output_type": "error",
          "traceback": [
            "\u001b[1;31mRunning cells with 'venv (Python 3.7.16)' requires the ipykernel package.\n",
            "\u001b[1;31mRun the following command to install 'ipykernel' into the Python environment. \n",
            "\u001b[1;31mCommand: 'conda install -p c:\\Users\\emi87\\OneDrive\\Escritorio\\Data Projects\\Ml Projects\\BostonHousePricing\\venv ipykernel --update-deps --force-reinstall'"
          ]
        }
      ],
      "source": [
        "X_train=data.drop(['Id','SalePrice'],axis=1)"
      ]
    },
    {
      "cell_type": "markdown",
      "metadata": {
        "id": "pWaqB9hVD3y3"
      },
      "source": [
        "#Feature Selection\n"
      ]
    },
    {
      "cell_type": "code",
      "execution_count": null,
      "metadata": {
        "colab": {
          "base_uri": "https://localhost:8080/",
          "height": 116
        },
        "id": "BFotZs4VDY-A",
        "outputId": "bbde70fc-ba4a-4886-dc82-92babc65f124"
      },
      "outputs": [
        {
          "ename": "",
          "evalue": "",
          "output_type": "error",
          "traceback": [
            "\u001b[1;31mRunning cells with 'venv (Python 3.7.16)' requires the ipykernel package.\n",
            "\u001b[1;31mRun the following command to install 'ipykernel' into the Python environment. \n",
            "\u001b[1;31mCommand: 'conda install -p c:\\Users\\emi87\\OneDrive\\Escritorio\\Data Projects\\Ml Projects\\BostonHousePricing\\venv ipykernel --update-deps --force-reinstall'"
          ]
        }
      ],
      "source": [
        "feature_sel_model = SelectFromModel(Lasso(alpha=0.005, random_state=0)) # remember to set the seed, the random state in this function\n",
        "feature_sel_model.fit(X_train, y_train)"
      ]
    },
    {
      "cell_type": "code",
      "execution_count": null,
      "metadata": {
        "colab": {
          "base_uri": "https://localhost:8080/",
          "height": 116
        },
        "id": "L-FUmMQ2DfjT",
        "outputId": "f1e8c9d1-1392-43dc-9d4d-1630f3267d7b"
      },
      "outputs": [
        {
          "ename": "",
          "evalue": "",
          "output_type": "error",
          "traceback": [
            "\u001b[1;31mRunning cells with 'venv (Python 3.7.16)' requires the ipykernel package.\n",
            "\u001b[1;31mRun the following command to install 'ipykernel' into the Python environment. \n",
            "\u001b[1;31mCommand: 'conda install -p c:\\Users\\emi87\\OneDrive\\Escritorio\\Data Projects\\Ml Projects\\BostonHousePricing\\venv ipykernel --update-deps --force-reinstall'"
          ]
        }
      ],
      "source": [
        "SelectFromModel(estimator=Lasso(alpha=0.005, copy_X=True, fit_intercept=True, max_iter=1000,  positive=False, precompute=False, random_state=0,\n",
        "   selection='cyclic', tol=0.0001, warm_start=False),\n",
        "        max_features=None, norm_order=1, prefit=False, threshold=None)"
      ]
    },
    {
      "cell_type": "code",
      "execution_count": null,
      "metadata": {
        "colab": {
          "base_uri": "https://localhost:8080/"
        },
        "id": "GPl-xwusD0Fy",
        "outputId": "4d803be0-f73d-4dd0-ee5c-3cd569f3c687"
      },
      "outputs": [
        {
          "ename": "",
          "evalue": "",
          "output_type": "error",
          "traceback": [
            "\u001b[1;31mRunning cells with 'venv (Python 3.7.16)' requires the ipykernel package.\n",
            "\u001b[1;31mRun the following command to install 'ipykernel' into the Python environment. \n",
            "\u001b[1;31mCommand: 'conda install -p c:\\Users\\emi87\\OneDrive\\Escritorio\\Data Projects\\Ml Projects\\BostonHousePricing\\venv ipykernel --update-deps --force-reinstall'"
          ]
        }
      ],
      "source": [
        "feature_sel_model.get_support()\n"
      ]
    },
    {
      "cell_type": "code",
      "execution_count": null,
      "metadata": {
        "id": "LPAZGs-5D8hr"
      },
      "outputs": [
        {
          "ename": "",
          "evalue": "",
          "output_type": "error",
          "traceback": [
            "\u001b[1;31mRunning cells with 'venv (Python 3.7.16)' requires the ipykernel package.\n",
            "\u001b[1;31mRun the following command to install 'ipykernel' into the Python environment. \n",
            "\u001b[1;31mCommand: 'conda install -p c:\\Users\\emi87\\OneDrive\\Escritorio\\Data Projects\\Ml Projects\\BostonHousePricing\\venv ipykernel --update-deps --force-reinstall'"
          ]
        }
      ],
      "source": [
        "selected_feat = X_train.columns[(feature_sel_model.get_support())]\n"
      ]
    },
    {
      "cell_type": "code",
      "execution_count": null,
      "metadata": {
        "colab": {
          "base_uri": "https://localhost:8080/"
        },
        "id": "ok5dfqHUD_YI",
        "outputId": "61a03b43-6e44-4705-f26c-f438501c03e5"
      },
      "outputs": [
        {
          "ename": "",
          "evalue": "",
          "output_type": "error",
          "traceback": [
            "\u001b[1;31mRunning cells with 'venv (Python 3.7.16)' requires the ipykernel package.\n",
            "\u001b[1;31mRun the following command to install 'ipykernel' into the Python environment. \n",
            "\u001b[1;31mCommand: 'conda install -p c:\\Users\\emi87\\OneDrive\\Escritorio\\Data Projects\\Ml Projects\\BostonHousePricing\\venv ipykernel --update-deps --force-reinstall'"
          ]
        }
      ],
      "source": [
        "print('total features: {}'.format((X_train.shape[1])))\n",
        "print('selected features: {}'.format(len(selected_feat)))\n"
      ]
    },
    {
      "cell_type": "code",
      "execution_count": null,
      "metadata": {
        "colab": {
          "base_uri": "https://localhost:8080/"
        },
        "id": "18STeBlHEHL8",
        "outputId": "86eb128b-3e7a-40ab-9b01-08364ea4787b"
      },
      "outputs": [
        {
          "ename": "",
          "evalue": "",
          "output_type": "error",
          "traceback": [
            "\u001b[1;31mRunning cells with 'venv (Python 3.7.16)' requires the ipykernel package.\n",
            "\u001b[1;31mRun the following command to install 'ipykernel' into the Python environment. \n",
            "\u001b[1;31mCommand: 'conda install -p c:\\Users\\emi87\\OneDrive\\Escritorio\\Data Projects\\Ml Projects\\BostonHousePricing\\venv ipykernel --update-deps --force-reinstall'"
          ]
        }
      ],
      "source": [
        "selected_feat"
      ]
    },
    {
      "cell_type": "code",
      "execution_count": null,
      "metadata": {
        "id": "szEVP9s0EMkO"
      },
      "outputs": [
        {
          "ename": "",
          "evalue": "",
          "output_type": "error",
          "traceback": [
            "\u001b[1;31mRunning cells with 'venv (Python 3.7.16)' requires the ipykernel package.\n",
            "\u001b[1;31mRun the following command to install 'ipykernel' into the Python environment. \n",
            "\u001b[1;31mCommand: 'conda install -p c:\\Users\\emi87\\OneDrive\\Escritorio\\Data Projects\\Ml Projects\\BostonHousePricing\\venv ipykernel --update-deps --force-reinstall'"
          ]
        }
      ],
      "source": [
        "X_train=X_train[selected_feat] #Conclusión de los features seleccionados en la variable X_train"
      ]
    },
    {
      "cell_type": "markdown",
      "metadata": {
        "id": "GYOCSjTEFGoZ"
      },
      "source": [
        "# Entrenamiento"
      ]
    },
    {
      "cell_type": "code",
      "execution_count": null,
      "metadata": {
        "id": "a76iv7uJFGFA"
      },
      "outputs": [
        {
          "ename": "",
          "evalue": "",
          "output_type": "error",
          "traceback": [
            "\u001b[1;31mRunning cells with 'venv (Python 3.7.16)' requires the ipykernel package.\n",
            "\u001b[1;31mRun the following command to install 'ipykernel' into the Python environment. \n",
            "\u001b[1;31mCommand: 'conda install -p c:\\Users\\emi87\\OneDrive\\Escritorio\\Data Projects\\Ml Projects\\BostonHousePricing\\venv ipykernel --update-deps --force-reinstall'"
          ]
        }
      ],
      "source": [
        "from sklearn.datasets import make_classification\n",
        "\n"
      ]
    },
    {
      "cell_type": "code",
      "execution_count": null,
      "metadata": {
        "id": "dXWtMyBjFaHK"
      },
      "outputs": [
        {
          "ename": "",
          "evalue": "",
          "output_type": "error",
          "traceback": [
            "\u001b[1;31mRunning cells with 'venv (Python 3.7.16)' requires the ipykernel package.\n",
            "\u001b[1;31mRun the following command to install 'ipykernel' into the Python environment. \n",
            "\u001b[1;31mCommand: 'conda install -p c:\\Users\\emi87\\OneDrive\\Escritorio\\Data Projects\\Ml Projects\\BostonHousePricing\\venv ipykernel --update-deps --force-reinstall'"
          ]
        }
      ],
      "source": [
        "from sklearn.model_selection import train_test_split\n",
        "X_train,X_test,y_train,y_test=train_test_split(X_train,y_train,test_size=0.1,random_state=0)"
      ]
    },
    {
      "cell_type": "markdown",
      "metadata": {
        "id": "b7edopd_Folq"
      },
      "source": []
    },
    {
      "cell_type": "code",
      "execution_count": null,
      "metadata": {
        "id": "QJzhUNJRGqiD"
      },
      "outputs": [
        {
          "ename": "",
          "evalue": "",
          "output_type": "error",
          "traceback": [
            "\u001b[1;31mRunning cells with 'venv (Python 3.7.16)' requires the ipykernel package.\n",
            "\u001b[1;31mRun the following command to install 'ipykernel' into the Python environment. \n",
            "\u001b[1;31mCommand: 'conda install -p c:\\Users\\emi87\\OneDrive\\Escritorio\\Data Projects\\Ml Projects\\BostonHousePricing\\venv ipykernel --update-deps --force-reinstall'"
          ]
        }
      ],
      "source": [
        "import sklearn as sk"
      ]
    },
    {
      "cell_type": "code",
      "execution_count": null,
      "metadata": {
        "id": "AYIPwHMjGk2L"
      },
      "outputs": [
        {
          "ename": "",
          "evalue": "",
          "output_type": "error",
          "traceback": [
            "\u001b[1;31mRunning cells with 'venv (Python 3.7.16)' requires the ipykernel package.\n",
            "\u001b[1;31mRun the following command to install 'ipykernel' into the Python environment. \n",
            "\u001b[1;31mCommand: 'conda install -p c:\\Users\\emi87\\OneDrive\\Escritorio\\Data Projects\\Ml Projects\\BostonHousePricing\\venv ipykernel --update-deps --force-reinstall'"
          ]
        }
      ],
      "source": [
        "from sklearn import ensemble\n"
      ]
    },
    {
      "cell_type": "code",
      "execution_count": null,
      "metadata": {
        "id": "wONGkKNbGKez"
      },
      "outputs": [
        {
          "ename": "",
          "evalue": "",
          "output_type": "error",
          "traceback": [
            "\u001b[1;31mRunning cells with 'venv (Python 3.7.16)' requires the ipykernel package.\n",
            "\u001b[1;31mRun the following command to install 'ipykernel' into the Python environment. \n",
            "\u001b[1;31mCommand: 'conda install -p c:\\Users\\emi87\\OneDrive\\Escritorio\\Data Projects\\Ml Projects\\BostonHousePricing\\venv ipykernel --update-deps --force-reinstall'"
          ]
        }
      ],
      "source": [
        "reg = sk.ensemble.GradientBoostingRegressor(n_estimators=200, max_depth=15, random_state=42)\n"
      ]
    },
    {
      "cell_type": "code",
      "execution_count": null,
      "metadata": {
        "id": "oTiO32BiVavb"
      },
      "outputs": [
        {
          "ename": "",
          "evalue": "",
          "output_type": "error",
          "traceback": [
            "\u001b[1;31mRunning cells with 'venv (Python 3.7.16)' requires the ipykernel package.\n",
            "\u001b[1;31mRun the following command to install 'ipykernel' into the Python environment. \n",
            "\u001b[1;31mCommand: 'conda install -p c:\\Users\\emi87\\OneDrive\\Escritorio\\Data Projects\\Ml Projects\\BostonHousePricing\\venv ipykernel --update-deps --force-reinstall'"
          ]
        }
      ],
      "source": [
        "X_train_cleaned = X_train.drop(columns=columns_to_drop, errors='ignore')\n"
      ]
    },
    {
      "cell_type": "code",
      "execution_count": null,
      "metadata": {
        "id": "wK6Dk9WjWa3M"
      },
      "outputs": [
        {
          "ename": "",
          "evalue": "",
          "output_type": "error",
          "traceback": [
            "\u001b[1;31mRunning cells with 'venv (Python 3.7.16)' requires the ipykernel package.\n",
            "\u001b[1;31mRun the following command to install 'ipykernel' into the Python environment. \n",
            "\u001b[1;31mCommand: 'conda install -p c:\\Users\\emi87\\OneDrive\\Escritorio\\Data Projects\\Ml Projects\\BostonHousePricing\\venv ipykernel --update-deps --force-reinstall'"
          ]
        }
      ],
      "source": [
        "X_test_cleaned = X_test.drop(columns=columns_to_drop, errors='ignore')"
      ]
    },
    {
      "cell_type": "code",
      "execution_count": null,
      "metadata": {
        "id": "JAH46tf8WeZI"
      },
      "outputs": [
        {
          "ename": "",
          "evalue": "",
          "output_type": "error",
          "traceback": [
            "\u001b[1;31mRunning cells with 'venv (Python 3.7.16)' requires the ipykernel package.\n",
            "\u001b[1;31mRun the following command to install 'ipykernel' into the Python environment. \n",
            "\u001b[1;31mCommand: 'conda install -p c:\\Users\\emi87\\OneDrive\\Escritorio\\Data Projects\\Ml Projects\\BostonHousePricing\\venv ipykernel --update-deps --force-reinstall'"
          ]
        }
      ],
      "source": []
    },
    {
      "cell_type": "code",
      "execution_count": null,
      "metadata": {
        "colab": {
          "base_uri": "https://localhost:8080/",
          "height": 129
        },
        "id": "xp1ssyxvGwMS",
        "outputId": "13da2d48-6c17-42cc-c2a3-ee8c80f17aa9"
      },
      "outputs": [
        {
          "ename": "",
          "evalue": "",
          "output_type": "error",
          "traceback": [
            "\u001b[1;31mRunning cells with 'venv (Python 3.7.16)' requires the ipykernel package.\n",
            "\u001b[1;31mRun the following command to install 'ipykernel' into the Python environment. \n",
            "\u001b[1;31mCommand: 'conda install -p c:\\Users\\emi87\\OneDrive\\Escritorio\\Data Projects\\Ml Projects\\BostonHousePricing\\venv ipykernel --update-deps --force-reinstall'"
          ]
        }
      ],
      "source": [
        "reg.fit(X_train_cleaned, y_train)\n"
      ]
    },
    {
      "cell_type": "code",
      "execution_count": null,
      "metadata": {
        "id": "bu_rVWYneQZd"
      },
      "outputs": [
        {
          "ename": "",
          "evalue": "",
          "output_type": "error",
          "traceback": [
            "\u001b[1;31mRunning cells with 'venv (Python 3.7.16)' requires the ipykernel package.\n",
            "\u001b[1;31mRun the following command to install 'ipykernel' into the Python environment. \n",
            "\u001b[1;31mCommand: 'conda install -p c:\\Users\\emi87\\OneDrive\\Escritorio\\Data Projects\\Ml Projects\\BostonHousePricing\\venv ipykernel --update-deps --force-reinstall'"
          ]
        }
      ],
      "source": [
        "columnasModelo= X_train_cleaned.columns"
      ]
    },
    {
      "cell_type": "code",
      "execution_count": null,
      "metadata": {
        "colab": {
          "base_uri": "https://localhost:8080/"
        },
        "id": "5-t0uf88Tsim",
        "outputId": "78ac904e-6643-48ef-ba58-91b4b7aae6c7"
      },
      "outputs": [
        {
          "ename": "",
          "evalue": "",
          "output_type": "error",
          "traceback": [
            "\u001b[1;31mRunning cells with 'venv (Python 3.7.16)' requires the ipykernel package.\n",
            "\u001b[1;31mRun the following command to install 'ipykernel' into the Python environment. \n",
            "\u001b[1;31mCommand: 'conda install -p c:\\Users\\emi87\\OneDrive\\Escritorio\\Data Projects\\Ml Projects\\BostonHousePricing\\venv ipykernel --update-deps --force-reinstall'"
          ]
        }
      ],
      "source": [
        "importances = reg.feature_importances_\n",
        "\n",
        "# Crear una lista con los nombres de las características y sus importancias\n",
        "feature_names = X_train.columns\n",
        "\n",
        "# Crear una lista con los nombres de las características y sus importancias\n",
        "feature_importances = sorted(zip(feature_names, importances), key=lambda x: x[1], reverse=True)\n",
        "\n",
        "# Mostrar la lista con puntajes\n",
        "for feature, importance in feature_importances:\n",
        "    print(f\"{feature}: {importance:.4f}\")"
      ]
    },
    {
      "cell_type": "code",
      "execution_count": null,
      "metadata": {
        "colab": {
          "base_uri": "https://localhost:8080/"
        },
        "id": "tlGGzLbF-3gb",
        "outputId": "efbe28c6-d814-4155-e6c9-8f2ba8525472"
      },
      "outputs": [
        {
          "ename": "",
          "evalue": "",
          "output_type": "error",
          "traceback": [
            "\u001b[1;31mRunning cells with 'venv (Python 3.7.16)' requires the ipykernel package.\n",
            "\u001b[1;31mRun the following command to install 'ipykernel' into the Python environment. \n",
            "\u001b[1;31mCommand: 'conda install -p c:\\Users\\emi87\\OneDrive\\Escritorio\\Data Projects\\Ml Projects\\BostonHousePricing\\venv ipykernel --update-deps --force-reinstall'"
          ]
        }
      ],
      "source": [
        "columnasModelo"
      ]
    },
    {
      "cell_type": "code",
      "execution_count": null,
      "metadata": {
        "id": "Pw_csEsu-qml"
      },
      "outputs": [
        {
          "ename": "",
          "evalue": "",
          "output_type": "error",
          "traceback": [
            "\u001b[1;31mRunning cells with 'venv (Python 3.7.16)' requires the ipykernel package.\n",
            "\u001b[1;31mRun the following command to install 'ipykernel' into the Python environment. \n",
            "\u001b[1;31mCommand: 'conda install -p c:\\Users\\emi87\\OneDrive\\Escritorio\\Data Projects\\Ml Projects\\BostonHousePricing\\venv ipykernel --update-deps --force-reinstall'"
          ]
        }
      ],
      "source": []
    },
    {
      "cell_type": "code",
      "execution_count": null,
      "metadata": {
        "colab": {
          "base_uri": "https://localhost:8080/"
        },
        "id": "XxfoaG6QG0Rt",
        "outputId": "e3966a47-39a9-44d1-8e30-c7e29b630536"
      },
      "outputs": [
        {
          "ename": "",
          "evalue": "",
          "output_type": "error",
          "traceback": [
            "\u001b[1;31mRunning cells with 'venv (Python 3.7.16)' requires the ipykernel package.\n",
            "\u001b[1;31mRun the following command to install 'ipykernel' into the Python environment. \n",
            "\u001b[1;31mCommand: 'conda install -p c:\\Users\\emi87\\OneDrive\\Escritorio\\Data Projects\\Ml Projects\\BostonHousePricing\\venv ipykernel --update-deps --force-reinstall'"
          ]
        }
      ],
      "source": [
        "y_pred = reg.predict(X_test_cleaned)\n",
        "\n",
        "print(sk.metrics.mean_squared_error(y_test, y_pred, squared=False))"
      ]
    },
    {
      "cell_type": "code",
      "execution_count": null,
      "metadata": {
        "colab": {
          "base_uri": "https://localhost:8080/",
          "height": 443
        },
        "id": "fyp_3d_3rZXr",
        "outputId": "da512ee9-2051-40fb-f8be-5ae25bd179cc"
      },
      "outputs": [
        {
          "ename": "",
          "evalue": "",
          "output_type": "error",
          "traceback": [
            "\u001b[1;31mRunning cells with 'venv (Python 3.7.16)' requires the ipykernel package.\n",
            "\u001b[1;31mRun the following command to install 'ipykernel' into the Python environment. \n",
            "\u001b[1;31mCommand: 'conda install -p c:\\Users\\emi87\\OneDrive\\Escritorio\\Data Projects\\Ml Projects\\BostonHousePricing\\venv ipykernel --update-deps --force-reinstall'"
          ]
        }
      ],
      "source": [
        "test"
      ]
    },
    {
      "cell_type": "code",
      "execution_count": null,
      "metadata": {
        "id": "TWYu_pcPpEVS"
      },
      "outputs": [
        {
          "ename": "",
          "evalue": "",
          "output_type": "error",
          "traceback": [
            "\u001b[1;31mRunning cells with 'venv (Python 3.7.16)' requires the ipykernel package.\n",
            "\u001b[1;31mRun the following command to install 'ipykernel' into the Python environment. \n",
            "\u001b[1;31mCommand: 'conda install -p c:\\Users\\emi87\\OneDrive\\Escritorio\\Data Projects\\Ml Projects\\BostonHousePricing\\venv ipykernel --update-deps --force-reinstall'"
          ]
        }
      ],
      "source": [
        "predicciones = reg.predict(test)"
      ]
    },
    {
      "cell_type": "code",
      "execution_count": null,
      "metadata": {
        "id": "EtIfwUnHwhIk"
      },
      "outputs": [
        {
          "ename": "",
          "evalue": "",
          "output_type": "error",
          "traceback": [
            "\u001b[1;31mRunning cells with 'venv (Python 3.7.16)' requires the ipykernel package.\n",
            "\u001b[1;31mRun the following command to install 'ipykernel' into the Python environment. \n",
            "\u001b[1;31mCommand: 'conda install -p c:\\Users\\emi87\\OneDrive\\Escritorio\\Data Projects\\Ml Projects\\BostonHousePricing\\venv ipykernel --update-deps --force-reinstall'"
          ]
        }
      ],
      "source": [
        "import pickle\n",
        "pickle.dump(reg,open(\"regmodel.pkl\",\"wb\") )\n",
        "pickle.dump(scaler,open(\"scaler.pkl\",\"wb\") )\n",
        "picklemodel=pickle.load(open(\"regmodel.pkl\",\"rb\"))\n",
        "pickletrans=pickle.load(open(\"scaler.pkl\",\"rb\"))"
      ]
    },
    {
      "cell_type": "code",
      "execution_count": null,
      "metadata": {
        "id": "VRAOWA0dCm7U"
      },
      "outputs": [
        {
          "ename": "",
          "evalue": "",
          "output_type": "error",
          "traceback": [
            "\u001b[1;31mRunning cells with 'venv (Python 3.7.16)' requires the ipykernel package.\n",
            "\u001b[1;31mRun the following command to install 'ipykernel' into the Python environment. \n",
            "\u001b[1;31mCommand: 'conda install -p c:\\Users\\emi87\\OneDrive\\Escritorio\\Data Projects\\Ml Projects\\BostonHousePricing\\venv ipykernel --update-deps --force-reinstall'"
          ]
        }
      ],
      "source": [
        "primera_fila_array = np.array(df.iloc[0]).reshape(1,-1)\n"
      ]
    },
    {
      "cell_type": "code",
      "execution_count": null,
      "metadata": {
        "id": "TUFhlK6wDuDd"
      },
      "outputs": [
        {
          "ename": "",
          "evalue": "",
          "output_type": "error",
          "traceback": [
            "\u001b[1;31mRunning cells with 'venv (Python 3.7.16)' requires the ipykernel package.\n",
            "\u001b[1;31mRun the following command to install 'ipykernel' into the Python environment. \n",
            "\u001b[1;31mCommand: 'conda install -p c:\\Users\\emi87\\OneDrive\\Escritorio\\Data Projects\\Ml Projects\\BostonHousePricing\\venv ipykernel --update-deps --force-reinstall'"
          ]
        }
      ],
      "source": [
        "primera_fila_array = df.iloc[0]"
      ]
    },
    {
      "cell_type": "code",
      "execution_count": null,
      "metadata": {
        "id": "IbQsb7Xrp0-B"
      },
      "outputs": [
        {
          "ename": "",
          "evalue": "",
          "output_type": "error",
          "traceback": [
            "\u001b[1;31mRunning cells with 'venv (Python 3.7.16)' requires the ipykernel package.\n",
            "\u001b[1;31mRun the following command to install 'ipykernel' into the Python environment. \n",
            "\u001b[1;31mCommand: 'conda install -p c:\\Users\\emi87\\OneDrive\\Escritorio\\Data Projects\\Ml Projects\\BostonHousePricing\\venv ipykernel --update-deps --force-reinstall'"
          ]
        }
      ],
      "source": [
        "data_to_predict = pd.DataFrame([\n",
        "    {\n",
        "        'LotFrontage': 65.0, 'LotArea': 8450, \"Neighborhood\":13,'OverallQual': 15, 'YearBuilt': 7,\n",
        "        'YearRemodAdd': 2003, 'MasVnrArea': 2003, 'BsmtFinSF1': 196.0, 'TotalBsmtSF': 706,\n",
        "        '1stFlrSF': 856, '2ndFlrSF': 856, 'GrLivArea': 1710, 'FullBath': 2, 'GarageArea': 548,\n",
        "        'OpenPorchSF': 61, 'MoSold': 2008, 'YrSold': 2008,\"KitchenQual\":1,\"FireplaceQu\":1\n",
        "    }\n",
        "], columns=feature_names)"
      ]
    },
    {
      "cell_type": "code",
      "execution_count": null,
      "metadata": {
        "id": "jWNkeQwn2ROi"
      },
      "outputs": [
        {
          "ename": "",
          "evalue": "",
          "output_type": "error",
          "traceback": [
            "\u001b[1;31mRunning cells with 'venv (Python 3.7.16)' requires the ipykernel package.\n",
            "\u001b[1;31mRun the following command to install 'ipykernel' into the Python environment. \n",
            "\u001b[1;31mCommand: 'conda install -p c:\\Users\\emi87\\OneDrive\\Escritorio\\Data Projects\\Ml Projects\\BostonHousePricing\\venv ipykernel --update-deps --force-reinstall'"
          ]
        }
      ],
      "source": [
        "arrayconformado = [[65.0,\t8450,\t13,\t15,\t7,\t2003,\t2003,\t196.0,\t706,\t856,\t856,\t1710,\t2,\t1,\t1,\t548,\t61,\t2008]]"
      ]
    },
    {
      "cell_type": "code",
      "execution_count": null,
      "metadata": {
        "colab": {
          "base_uri": "https://localhost:8080/"
        },
        "id": "1DTMTJy22ckw",
        "outputId": "31079eb2-99ec-4b5d-b206-72c2a76ea567"
      },
      "outputs": [
        {
          "ename": "",
          "evalue": "",
          "output_type": "error",
          "traceback": [
            "\u001b[1;31mRunning cells with 'venv (Python 3.7.16)' requires the ipykernel package.\n",
            "\u001b[1;31mRun the following command to install 'ipykernel' into the Python environment. \n",
            "\u001b[1;31mCommand: 'conda install -p c:\\Users\\emi87\\OneDrive\\Escritorio\\Data Projects\\Ml Projects\\BostonHousePricing\\venv ipykernel --update-deps --force-reinstall'"
          ]
        }
      ],
      "source": [
        "pickletrans.transform(data_to_predict)"
      ]
    },
    {
      "cell_type": "code",
      "execution_count": null,
      "metadata": {
        "colab": {
          "base_uri": "https://localhost:8080/",
          "height": 109
        },
        "id": "x9nwEwITqSBz",
        "outputId": "1535c1a9-af12-4a2b-ea14-201d13a559d3"
      },
      "outputs": [
        {
          "ename": "",
          "evalue": "",
          "output_type": "error",
          "traceback": [
            "\u001b[1;31mRunning cells with 'venv (Python 3.7.16)' requires the ipykernel package.\n",
            "\u001b[1;31mRun the following command to install 'ipykernel' into the Python environment. \n",
            "\u001b[1;31mCommand: 'conda install -p c:\\Users\\emi87\\OneDrive\\Escritorio\\Data Projects\\Ml Projects\\BostonHousePricing\\venv ipykernel --update-deps --force-reinstall'"
          ]
        }
      ],
      "source": [
        "data_to_predict"
      ]
    },
    {
      "cell_type": "code",
      "execution_count": null,
      "metadata": {
        "id": "h6nu6Th_jun2"
      },
      "outputs": [
        {
          "ename": "",
          "evalue": "",
          "output_type": "error",
          "traceback": [
            "\u001b[1;31mRunning cells with 'venv (Python 3.7.16)' requires the ipykernel package.\n",
            "\u001b[1;31mRun the following command to install 'ipykernel' into the Python environment. \n",
            "\u001b[1;31mCommand: 'conda install -p c:\\Users\\emi87\\OneDrive\\Escritorio\\Data Projects\\Ml Projects\\BostonHousePricing\\venv ipykernel --update-deps --force-reinstall'"
          ]
        }
      ],
      "source": [
        "valorapredecir=pickletrans.transform(data_to_predict)"
      ]
    },
    {
      "cell_type": "code",
      "execution_count": null,
      "metadata": {
        "colab": {
          "base_uri": "https://localhost:8080/"
        },
        "id": "2ARkMB8xp9ik",
        "outputId": "100b6d30-6d24-4d2a-d247-2b25e4bc83d2"
      },
      "outputs": [
        {
          "ename": "",
          "evalue": "",
          "output_type": "error",
          "traceback": [
            "\u001b[1;31mRunning cells with 'venv (Python 3.7.16)' requires the ipykernel package.\n",
            "\u001b[1;31mRun the following command to install 'ipykernel' into the Python environment. \n",
            "\u001b[1;31mCommand: 'conda install -p c:\\Users\\emi87\\OneDrive\\Escritorio\\Data Projects\\Ml Projects\\BostonHousePricing\\venv ipykernel --update-deps --force-reinstall'"
          ]
        }
      ],
      "source": [
        "valorapredecir"
      ]
    },
    {
      "cell_type": "code",
      "execution_count": null,
      "metadata": {
        "colab": {
          "base_uri": "https://localhost:8080/"
        },
        "id": "K2JuVoxUG_mP",
        "outputId": "9cb8893a-5627-4271-cddd-b7d238374c18"
      },
      "outputs": [
        {
          "ename": "",
          "evalue": "",
          "output_type": "error",
          "traceback": [
            "\u001b[1;31mRunning cells with 'venv (Python 3.7.16)' requires the ipykernel package.\n",
            "\u001b[1;31mRun the following command to install 'ipykernel' into the Python environment. \n",
            "\u001b[1;31mCommand: 'conda install -p c:\\Users\\emi87\\OneDrive\\Escritorio\\Data Projects\\Ml Projects\\BostonHousePricing\\venv ipykernel --update-deps --force-reinstall'"
          ]
        }
      ],
      "source": [
        "picklemodel.predict(data_to_predict)"
      ]
    },
    {
      "cell_type": "code",
      "execution_count": null,
      "metadata": {
        "colab": {
          "base_uri": "https://localhost:8080/",
          "height": 141
        },
        "id": "_rsAwmtwHDUR",
        "outputId": "05422b9c-9600-4c85-a53e-abd34179eefa"
      },
      "outputs": [
        {
          "ename": "",
          "evalue": "",
          "output_type": "error",
          "traceback": [
            "\u001b[1;31mRunning cells with 'venv (Python 3.7.16)' requires the ipykernel package.\n",
            "\u001b[1;31mRun the following command to install 'ipykernel' into the Python environment. \n",
            "\u001b[1;31mCommand: 'conda install -p c:\\Users\\emi87\\OneDrive\\Escritorio\\Data Projects\\Ml Projects\\BostonHousePricing\\venv ipykernel --update-deps --force-reinstall'"
          ]
        }
      ],
      "source": [
        "picklemodel.predict(valor)"
      ]
    },
    {
      "cell_type": "code",
      "execution_count": null,
      "metadata": {
        "id": "Zr5G3_k92kQe"
      },
      "outputs": [
        {
          "ename": "",
          "evalue": "",
          "output_type": "error",
          "traceback": [
            "\u001b[1;31mRunning cells with 'venv (Python 3.7.16)' requires the ipykernel package.\n",
            "\u001b[1;31mRun the following command to install 'ipykernel' into the Python environment. \n",
            "\u001b[1;31mCommand: 'conda install -p c:\\Users\\emi87\\OneDrive\\Escritorio\\Data Projects\\Ml Projects\\BostonHousePricing\\venv ipykernel --update-deps --force-reinstall'"
          ]
        }
      ],
      "source": [
        "pickletrans"
      ]
    },
    {
      "cell_type": "code",
      "execution_count": null,
      "metadata": {
        "id": "U59lyIVVfjtX"
      },
      "outputs": [
        {
          "ename": "",
          "evalue": "",
          "output_type": "error",
          "traceback": [
            "\u001b[1;31mRunning cells with 'venv (Python 3.7.16)' requires the ipykernel package.\n",
            "\u001b[1;31mRun the following command to install 'ipykernel' into the Python environment. \n",
            "\u001b[1;31mCommand: 'conda install -p c:\\Users\\emi87\\OneDrive\\Escritorio\\Data Projects\\Ml Projects\\BostonHousePricing\\venv ipykernel --update-deps --force-reinstall'"
          ]
        }
      ],
      "source": [
        "#Dictionary of neighborhood: {'MeadowV': 0, 'IDOTRR': 1, 'BrDale': 2, 'BrkSide': 3, 'Edwards': 4, 'OldTown': 5, 'Sawyer': 6, 'SWISU': 7, 'NAmes': 8, 'Mitchel': 9, 'SawyerW': 10, 'NWAmes': 11, 'Rare_var': 12, 'Gilbert': 13, 'Blmngtn': 14, 'CollgCr': 15, 'Crawfor': 16, 'ClearCr': 17, 'Somerst': 18, 'Timber': 19, 'StoneBr': 20, 'NridgHt': 21, 'NoRidge': 22}\n",
        "\n"
      ]
    }
  ],
  "metadata": {
    "colab": {
      "collapsed_sections": [
        "CXln5osM644K"
      ],
      "provenance": []
    },
    "kernelspec": {
      "display_name": "Python 3",
      "name": "python3"
    },
    "language_info": {
      "codemirror_mode": {
        "name": "ipython",
        "version": 3
      },
      "file_extension": ".py",
      "mimetype": "text/x-python",
      "name": "python",
      "nbconvert_exporter": "python",
      "pygments_lexer": "ipython3",
      "version": "3.7.16"
    }
  },
  "nbformat": 4,
  "nbformat_minor": 0
}
